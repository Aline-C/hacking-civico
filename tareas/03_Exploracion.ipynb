{
  "nbformat": 4,
  "nbformat_minor": 0,
  "metadata": {
    "colab": {
      "name": "03_Exploracion.ipynb",
      "provenance": [],
      "collapsed_sections": [],
      "include_colab_link": true
    },
    "kernelspec": {
      "name": "python3",
      "display_name": "Python 3"
    }
  },
  "cells": [
    {
      "cell_type": "markdown",
      "metadata": {
        "id": "view-in-github",
        "colab_type": "text"
      },
      "source": [
        "<a href=\"https://colab.research.google.com/github/Aline-C/hacking-civico/blob/master/tareas/03_Exploracion.ipynb\" target=\"_parent\"><img src=\"https://colab.research.google.com/assets/colab-badge.svg\" alt=\"Open In Colab\"/></a>"
      ]
    },
    {
      "cell_type": "markdown",
      "metadata": {
        "id": "DHfhZou3B_Ht",
        "colab_type": "text"
      },
      "source": [
        "#Tarea 3 📚: Exploración "
      ]
    },
    {
      "cell_type": "code",
      "metadata": {
        "id": "SSB4VfdeEfcO",
        "colab_type": "code",
        "colab": {
          "base_uri": "https://localhost:8080/",
          "height": 153
        },
        "outputId": "6ff54967-c117-4441-b282-1c26039d6140"
      },
      "source": [
        "#¿Tienen los pacientes con hipertensión un riesgo más alto de defunción?\n",
        "#Respuesta: Si. El porcentaje de pacientes con Hipertensión que murió es del 16%;\n",
        "#           mientras que los no tenían y aún así murieron es del casi 4%\n",
        "\n",
        "data.groupby('hipertension').defuncion.value_counts(normalize=True)"
      ],
      "execution_count": 51,
      "outputs": [
        {
          "output_type": "execute_result",
          "data": {
            "text/plain": [
              "hipertension  defuncion\n",
              "NO            False        0.960768\n",
              "              True         0.039232\n",
              "SE IGNORA     False        0.873276\n",
              "              True         0.126724\n",
              "SI            False        0.834452\n",
              "              True         0.165548\n",
              "Name: defuncion, dtype: float64"
            ]
          },
          "metadata": {
            "tags": []
          },
          "execution_count": 51
        }
      ]
    },
    {
      "cell_type": "code",
      "metadata": {
        "id": "yW7SIDSrGBxS",
        "colab_type": "code",
        "colab": {
          "base_uri": "https://localhost:8080/",
          "height": 578
        },
        "outputId": "2bf80e17-af24-4a36-da72-4b5ef0774935"
      },
      "source": [
        "#¿Cuántos casos confirmados se tienen por Estado?\n",
        "data[data.resultado == 'Positivo SARS-CoV-2'].entidad_res.value_counts().sort_index()"
      ],
      "execution_count": 73,
      "outputs": [
        {
          "output_type": "execute_result",
          "data": {
            "text/plain": [
              "AGUASCALIENTES                       6331\n",
              "BAJA CALIFORNIA                     18299\n",
              "BAJA CALIFORNIA SUR                  8871\n",
              "CAMPECHE                             5772\n",
              "CHIAPAS                              6373\n",
              "CHIHUAHUA                            8945\n",
              "CIUDAD DE MÉXICO                   110809\n",
              "COAHUILA DE ZARAGOZA                23906\n",
              "COLIMA                               4160\n",
              "DURANGO                              7628\n",
              "GUANAJUATO                          36391\n",
              "GUERRERO                            16354\n",
              "HIDALGO                             11364\n",
              "JALISCO                             22997\n",
              "MICHOACÁN DE OCAMPO                 17474\n",
              "MORELOS                              5533\n",
              "MÉXICO                              73353\n",
              "NAYARIT                              5454\n",
              "NUEVO LEÓN                          33510\n",
              "OAXACA                              14726\n",
              "PUEBLA                              29046\n",
              "QUERÉTARO                            7626\n",
              "QUINTANA ROO                        11055\n",
              "SAN LUIS POTOSÍ                     20585\n",
              "SINALOA                             17289\n",
              "SONORA                              23057\n",
              "TABASCO                             29911\n",
              "TAMAULIPAS                          26778\n",
              "TLAXCALA                             6845\n",
              "VERACRUZ DE IGNACIO DE LA LLAVE     30788\n",
              "YUCATÁN                             16453\n",
              "ZACATECAS                            6290\n",
              "Name: entidad_res, dtype: int64"
            ]
          },
          "metadata": {
            "tags": []
          },
          "execution_count": 73
        }
      ]
    },
    {
      "cell_type": "code",
      "metadata": {
        "id": "5TG2MgwCKEx1",
        "colab_type": "code",
        "colab": {
          "base_uri": "https://localhost:8080/",
          "height": 578
        },
        "outputId": "317f8f7e-e78b-4b41-e4b1-eacd9b21cc9c"
      },
      "source": [
        "#¿Cuántas defunciones se tienen por Estado?\n",
        "data[data.defuncion == True].entidad_res.value_counts().sort_index()"
      ],
      "execution_count": 76,
      "outputs": [
        {
          "output_type": "execute_result",
          "data": {
            "text/plain": [
              "AGUASCALIENTES                       600\n",
              "BAJA CALIFORNIA                     4081\n",
              "BAJA CALIFORNIA SUR                  541\n",
              "CAMPECHE                             958\n",
              "CHIAPAS                             1221\n",
              "CHIHUAHUA                           2043\n",
              "CIUDAD DE MÉXICO                   12012\n",
              "COAHUILA DE ZARAGOZA                2196\n",
              "COLIMA                               598\n",
              "DURANGO                              721\n",
              "GUANAJUATO                          3185\n",
              "GUERRERO                            2303\n",
              "HIDALGO                             2078\n",
              "JALISCO                             3899\n",
              "MICHOACÁN DE OCAMPO                 1929\n",
              "MORELOS                             1255\n",
              "MÉXICO                             13635\n",
              "NAYARIT                              823\n",
              "NUEVO LEÓN                          3554\n",
              "OAXACA                              1622\n",
              "PUEBLA                              4635\n",
              "QUERÉTARO                           1011\n",
              "QUINTANA ROO                        1915\n",
              "SAN LUIS POTOSÍ                     1785\n",
              "SINALOA                             3751\n",
              "SONORA                              3282\n",
              "TABASCO                             2929\n",
              "TAMAULIPAS                          2852\n",
              "TLAXCALA                            1331\n",
              "VERACRUZ DE IGNACIO DE LA LLAVE     4853\n",
              "YUCATÁN                             1821\n",
              "ZACATECAS                            776\n",
              "Name: entidad_res, dtype: int64"
            ]
          },
          "metadata": {
            "tags": []
          },
          "execution_count": 76
        }
      ]
    },
    {
      "cell_type": "code",
      "metadata": {
        "id": "OLbgpSvBKg_p",
        "colab_type": "code",
        "colab": {
          "base_uri": "https://localhost:8080/",
          "height": 102
        },
        "outputId": "095f9c80-045f-4024-96e1-a8c3a2fe6647"
      },
      "source": [
        "#¿Cuántos fallecimientos han ocurrido en el Estado con mayor número de casos confirmados?\n",
        "\n",
        "#Para saber qué estado tiene más casos confirmados:\n",
        "data[data.resultado == 'Positivo SARS-CoV-2'].entidad_res.describe()"
      ],
      "execution_count": 87,
      "outputs": [
        {
          "output_type": "execute_result",
          "data": {
            "text/plain": [
              "count               663973\n",
              "unique                  32\n",
              "top       CIUDAD DE MÉXICO\n",
              "freq                110809\n",
              "Name: entidad_res, dtype: object"
            ]
          },
          "metadata": {
            "tags": []
          },
          "execution_count": 87
        }
      ]
    },
    {
      "cell_type": "code",
      "metadata": {
        "id": "Z4SHFQcCMbpD",
        "colab_type": "code",
        "colab": {
          "base_uri": "https://localhost:8080/",
          "height": 711
        },
        "outputId": "752a532c-c5d7-4842-96d8-4e8d36a55ba3"
      },
      "source": [
        "#Para saber cuántos fallecimientos ocurrieron en Ciudad de México:\n",
        "#Respuesta: 12012 fallecimientos\n",
        "\n",
        "data[(data.defuncion == True) & (data.entidad_res == \"CIUDAD DE MÉXICO\")]"
      ],
      "execution_count": 140,
      "outputs": [
        {
          "output_type": "execute_result",
          "data": {
            "text/html": [
              "<div>\n",
              "<style scoped>\n",
              "    .dataframe tbody tr th:only-of-type {\n",
              "        vertical-align: middle;\n",
              "    }\n",
              "\n",
              "    .dataframe tbody tr th {\n",
              "        vertical-align: top;\n",
              "    }\n",
              "\n",
              "    .dataframe thead th {\n",
              "        text-align: right;\n",
              "    }\n",
              "</style>\n",
              "<table border=\"1\" class=\"dataframe\">\n",
              "  <thead>\n",
              "    <tr style=\"text-align: right;\">\n",
              "      <th></th>\n",
              "      <th>fecha_actualizacion</th>\n",
              "      <th>id_registro</th>\n",
              "      <th>fecha_ingreso</th>\n",
              "      <th>fecha_sintomas</th>\n",
              "      <th>fecha_def</th>\n",
              "      <th>edad</th>\n",
              "      <th>pais_nacionalidad</th>\n",
              "      <th>pais_origen</th>\n",
              "      <th>entidad_res</th>\n",
              "      <th>municipio_res</th>\n",
              "      <th>entidad_um</th>\n",
              "      <th>entidad_nac</th>\n",
              "      <th>intubado</th>\n",
              "      <th>neumonia</th>\n",
              "      <th>embarazo</th>\n",
              "      <th>habla_lengua_indig</th>\n",
              "      <th>diabetes</th>\n",
              "      <th>epoc</th>\n",
              "      <th>asma</th>\n",
              "      <th>inmusupr</th>\n",
              "      <th>hipertension</th>\n",
              "      <th>otra_com</th>\n",
              "      <th>cardiovascular</th>\n",
              "      <th>obesidad</th>\n",
              "      <th>renal_cronica</th>\n",
              "      <th>tabaquismo</th>\n",
              "      <th>otro_caso</th>\n",
              "      <th>migrante</th>\n",
              "      <th>uci</th>\n",
              "      <th>origen</th>\n",
              "      <th>sector</th>\n",
              "      <th>sexo</th>\n",
              "      <th>tipo_paciente</th>\n",
              "      <th>nacionalidad</th>\n",
              "      <th>resultado</th>\n",
              "      <th>defuncion</th>\n",
              "      <th>mes_def</th>\n",
              "      <th>año_def</th>\n",
              "      <th>mes_ingreso</th>\n",
              "      <th>año_ingreso</th>\n",
              "    </tr>\n",
              "  </thead>\n",
              "  <tbody>\n",
              "    <tr>\n",
              "      <th>6</th>\n",
              "      <td>2020-09-12</td>\n",
              "      <td>1a73c1</td>\n",
              "      <td>2020-05-22</td>\n",
              "      <td>2020-05-21</td>\n",
              "      <td>2020-05-25</td>\n",
              "      <td>48</td>\n",
              "      <td>MÃ©xico</td>\n",
              "      <td>99</td>\n",
              "      <td>CIUDAD DE MÉXICO</td>\n",
              "      <td>GUSTAVO A. MADERO</td>\n",
              "      <td>MÉXICO</td>\n",
              "      <td>CIUDAD DE MÉXICO</td>\n",
              "      <td>NO APLICA</td>\n",
              "      <td>NO</td>\n",
              "      <td>NO</td>\n",
              "      <td>NO</td>\n",
              "      <td>SI</td>\n",
              "      <td>NO</td>\n",
              "      <td>NO</td>\n",
              "      <td>NO</td>\n",
              "      <td>SI</td>\n",
              "      <td>NO</td>\n",
              "      <td>NO</td>\n",
              "      <td>NO</td>\n",
              "      <td>NO</td>\n",
              "      <td>NO</td>\n",
              "      <td>SI</td>\n",
              "      <td>NO ESPECIFICADO</td>\n",
              "      <td>NO APLICA</td>\n",
              "      <td>FUERA DE USMER</td>\n",
              "      <td>ESTATAL</td>\n",
              "      <td>MUJER</td>\n",
              "      <td>AMBULATORIO</td>\n",
              "      <td>MEXICANA</td>\n",
              "      <td>Positivo SARS-CoV-2</td>\n",
              "      <td>True</td>\n",
              "      <td>5.0</td>\n",
              "      <td>2020.0</td>\n",
              "      <td>5</td>\n",
              "      <td>2020</td>\n",
              "    </tr>\n",
              "    <tr>\n",
              "      <th>9</th>\n",
              "      <td>2020-09-12</td>\n",
              "      <td>022691</td>\n",
              "      <td>2020-04-16</td>\n",
              "      <td>2020-04-04</td>\n",
              "      <td>2020-05-01</td>\n",
              "      <td>38</td>\n",
              "      <td>MÃ©xico</td>\n",
              "      <td>99</td>\n",
              "      <td>CIUDAD DE MÉXICO</td>\n",
              "      <td>CUAUHTÉMOC</td>\n",
              "      <td>CIUDAD DE MÉXICO</td>\n",
              "      <td>CIUDAD DE MÉXICO</td>\n",
              "      <td>SI</td>\n",
              "      <td>NO</td>\n",
              "      <td>NO APLICA</td>\n",
              "      <td>NO</td>\n",
              "      <td>SI</td>\n",
              "      <td>NO</td>\n",
              "      <td>NO</td>\n",
              "      <td>NO</td>\n",
              "      <td>SI</td>\n",
              "      <td>NO</td>\n",
              "      <td>NO</td>\n",
              "      <td>SI</td>\n",
              "      <td>NO</td>\n",
              "      <td>NO</td>\n",
              "      <td>NO ESPECIFICADO</td>\n",
              "      <td>NO ESPECIFICADO</td>\n",
              "      <td>NO</td>\n",
              "      <td>FUERA DE USMER</td>\n",
              "      <td>IMSS</td>\n",
              "      <td>HOMBRE</td>\n",
              "      <td>HOSPITALIZADO</td>\n",
              "      <td>MEXICANA</td>\n",
              "      <td>Positivo SARS-CoV-2</td>\n",
              "      <td>True</td>\n",
              "      <td>5.0</td>\n",
              "      <td>2020.0</td>\n",
              "      <td>4</td>\n",
              "      <td>2020</td>\n",
              "    </tr>\n",
              "    <tr>\n",
              "      <th>14</th>\n",
              "      <td>2020-09-12</td>\n",
              "      <td>1c1c5a</td>\n",
              "      <td>2020-05-08</td>\n",
              "      <td>2020-05-02</td>\n",
              "      <td>2020-05-08</td>\n",
              "      <td>58</td>\n",
              "      <td>MÃ©xico</td>\n",
              "      <td>99</td>\n",
              "      <td>CIUDAD DE MÉXICO</td>\n",
              "      <td>VENUSTIANO CARRANZA</td>\n",
              "      <td>CIUDAD DE MÉXICO</td>\n",
              "      <td>CIUDAD DE MÉXICO</td>\n",
              "      <td>NO APLICA</td>\n",
              "      <td>NO</td>\n",
              "      <td>NO</td>\n",
              "      <td>NO</td>\n",
              "      <td>NO</td>\n",
              "      <td>NO</td>\n",
              "      <td>NO</td>\n",
              "      <td>NO</td>\n",
              "      <td>NO</td>\n",
              "      <td>NO</td>\n",
              "      <td>NO</td>\n",
              "      <td>SI</td>\n",
              "      <td>NO</td>\n",
              "      <td>NO</td>\n",
              "      <td>NO ESPECIFICADO</td>\n",
              "      <td>NO ESPECIFICADO</td>\n",
              "      <td>NO APLICA</td>\n",
              "      <td>FUERA DE USMER</td>\n",
              "      <td>IMSS</td>\n",
              "      <td>MUJER</td>\n",
              "      <td>AMBULATORIO</td>\n",
              "      <td>MEXICANA</td>\n",
              "      <td>Positivo SARS-CoV-2</td>\n",
              "      <td>True</td>\n",
              "      <td>5.0</td>\n",
              "      <td>2020.0</td>\n",
              "      <td>5</td>\n",
              "      <td>2020</td>\n",
              "    </tr>\n",
              "    <tr>\n",
              "      <th>19</th>\n",
              "      <td>2020-09-12</td>\n",
              "      <td>08eb00</td>\n",
              "      <td>2020-04-22</td>\n",
              "      <td>2020-04-16</td>\n",
              "      <td>2020-04-24</td>\n",
              "      <td>55</td>\n",
              "      <td>MÃ©xico</td>\n",
              "      <td>99</td>\n",
              "      <td>CIUDAD DE MÉXICO</td>\n",
              "      <td>IZTAPALAPA</td>\n",
              "      <td>CIUDAD DE MÉXICO</td>\n",
              "      <td>CIUDAD DE MÉXICO</td>\n",
              "      <td>SI</td>\n",
              "      <td>SI</td>\n",
              "      <td>NO APLICA</td>\n",
              "      <td>NO</td>\n",
              "      <td>NO</td>\n",
              "      <td>NO</td>\n",
              "      <td>NO</td>\n",
              "      <td>NO</td>\n",
              "      <td>NO</td>\n",
              "      <td>NO</td>\n",
              "      <td>NO</td>\n",
              "      <td>NO</td>\n",
              "      <td>NO</td>\n",
              "      <td>NO</td>\n",
              "      <td>NO ESPECIFICADO</td>\n",
              "      <td>NO ESPECIFICADO</td>\n",
              "      <td>NO</td>\n",
              "      <td>FUERA DE USMER</td>\n",
              "      <td>IMSS</td>\n",
              "      <td>HOMBRE</td>\n",
              "      <td>HOSPITALIZADO</td>\n",
              "      <td>MEXICANA</td>\n",
              "      <td>Positivo SARS-CoV-2</td>\n",
              "      <td>True</td>\n",
              "      <td>4.0</td>\n",
              "      <td>2020.0</td>\n",
              "      <td>4</td>\n",
              "      <td>2020</td>\n",
              "    </tr>\n",
              "    <tr>\n",
              "      <th>28</th>\n",
              "      <td>2020-09-12</td>\n",
              "      <td>16e67a</td>\n",
              "      <td>2020-04-27</td>\n",
              "      <td>2020-04-21</td>\n",
              "      <td>2020-04-30</td>\n",
              "      <td>63</td>\n",
              "      <td>MÃ©xico</td>\n",
              "      <td>99</td>\n",
              "      <td>CIUDAD DE MÉXICO</td>\n",
              "      <td>VENUSTIANO CARRANZA</td>\n",
              "      <td>CIUDAD DE MÉXICO</td>\n",
              "      <td>CIUDAD DE MÉXICO</td>\n",
              "      <td>NO APLICA</td>\n",
              "      <td>NO</td>\n",
              "      <td>NO APLICA</td>\n",
              "      <td>NO</td>\n",
              "      <td>SI</td>\n",
              "      <td>SI</td>\n",
              "      <td>NO</td>\n",
              "      <td>NO</td>\n",
              "      <td>NO</td>\n",
              "      <td>NO</td>\n",
              "      <td>SI</td>\n",
              "      <td>NO</td>\n",
              "      <td>SI</td>\n",
              "      <td>NO</td>\n",
              "      <td>NO ESPECIFICADO</td>\n",
              "      <td>NO ESPECIFICADO</td>\n",
              "      <td>NO APLICA</td>\n",
              "      <td>FUERA DE USMER</td>\n",
              "      <td>IMSS</td>\n",
              "      <td>HOMBRE</td>\n",
              "      <td>AMBULATORIO</td>\n",
              "      <td>MEXICANA</td>\n",
              "      <td>Positivo SARS-CoV-2</td>\n",
              "      <td>True</td>\n",
              "      <td>4.0</td>\n",
              "      <td>2020.0</td>\n",
              "      <td>4</td>\n",
              "      <td>2020</td>\n",
              "    </tr>\n",
              "    <tr>\n",
              "      <th>...</th>\n",
              "      <td>...</td>\n",
              "      <td>...</td>\n",
              "      <td>...</td>\n",
              "      <td>...</td>\n",
              "      <td>...</td>\n",
              "      <td>...</td>\n",
              "      <td>...</td>\n",
              "      <td>...</td>\n",
              "      <td>...</td>\n",
              "      <td>...</td>\n",
              "      <td>...</td>\n",
              "      <td>...</td>\n",
              "      <td>...</td>\n",
              "      <td>...</td>\n",
              "      <td>...</td>\n",
              "      <td>...</td>\n",
              "      <td>...</td>\n",
              "      <td>...</td>\n",
              "      <td>...</td>\n",
              "      <td>...</td>\n",
              "      <td>...</td>\n",
              "      <td>...</td>\n",
              "      <td>...</td>\n",
              "      <td>...</td>\n",
              "      <td>...</td>\n",
              "      <td>...</td>\n",
              "      <td>...</td>\n",
              "      <td>...</td>\n",
              "      <td>...</td>\n",
              "      <td>...</td>\n",
              "      <td>...</td>\n",
              "      <td>...</td>\n",
              "      <td>...</td>\n",
              "      <td>...</td>\n",
              "      <td>...</td>\n",
              "      <td>...</td>\n",
              "      <td>...</td>\n",
              "      <td>...</td>\n",
              "      <td>...</td>\n",
              "      <td>...</td>\n",
              "    </tr>\n",
              "    <tr>\n",
              "      <th>1509068</th>\n",
              "      <td>2020-09-12</td>\n",
              "      <td>07c459</td>\n",
              "      <td>2020-08-11</td>\n",
              "      <td>2020-08-03</td>\n",
              "      <td>2020-08-13</td>\n",
              "      <td>95</td>\n",
              "      <td>MÃ©xico</td>\n",
              "      <td>99</td>\n",
              "      <td>CIUDAD DE MÉXICO</td>\n",
              "      <td>IZTACALCO</td>\n",
              "      <td>CIUDAD DE MÉXICO</td>\n",
              "      <td>OAXACA</td>\n",
              "      <td>NO</td>\n",
              "      <td>SI</td>\n",
              "      <td>NO APLICA</td>\n",
              "      <td>NO</td>\n",
              "      <td>NO</td>\n",
              "      <td>NO</td>\n",
              "      <td>NO</td>\n",
              "      <td>NO</td>\n",
              "      <td>NO</td>\n",
              "      <td>NO</td>\n",
              "      <td>NO</td>\n",
              "      <td>NO</td>\n",
              "      <td>NO</td>\n",
              "      <td>SI</td>\n",
              "      <td>NO</td>\n",
              "      <td>NO ESPECIFICADO</td>\n",
              "      <td>NO</td>\n",
              "      <td>USMER</td>\n",
              "      <td>IMSS</td>\n",
              "      <td>HOMBRE</td>\n",
              "      <td>HOSPITALIZADO</td>\n",
              "      <td>MEXICANA</td>\n",
              "      <td>Resultado pendiente</td>\n",
              "      <td>True</td>\n",
              "      <td>8.0</td>\n",
              "      <td>2020.0</td>\n",
              "      <td>8</td>\n",
              "      <td>2020</td>\n",
              "    </tr>\n",
              "    <tr>\n",
              "      <th>1509283</th>\n",
              "      <td>2020-09-12</td>\n",
              "      <td>1102db</td>\n",
              "      <td>2020-07-29</td>\n",
              "      <td>2020-07-28</td>\n",
              "      <td>2020-07-30</td>\n",
              "      <td>74</td>\n",
              "      <td>MÃ©xico</td>\n",
              "      <td>99</td>\n",
              "      <td>CIUDAD DE MÉXICO</td>\n",
              "      <td>XOCHIMILCO</td>\n",
              "      <td>CIUDAD DE MÉXICO</td>\n",
              "      <td>CIUDAD DE MÉXICO</td>\n",
              "      <td>NO APLICA</td>\n",
              "      <td>SI</td>\n",
              "      <td>NO</td>\n",
              "      <td>NO</td>\n",
              "      <td>NO</td>\n",
              "      <td>NO</td>\n",
              "      <td>SI</td>\n",
              "      <td>NO</td>\n",
              "      <td>NO</td>\n",
              "      <td>NO</td>\n",
              "      <td>SI</td>\n",
              "      <td>NO</td>\n",
              "      <td>NO</td>\n",
              "      <td>NO</td>\n",
              "      <td>NO ESPECIFICADO</td>\n",
              "      <td>NO ESPECIFICADO</td>\n",
              "      <td>NO APLICA</td>\n",
              "      <td>USMER</td>\n",
              "      <td>IMSS</td>\n",
              "      <td>MUJER</td>\n",
              "      <td>AMBULATORIO</td>\n",
              "      <td>MEXICANA</td>\n",
              "      <td>Resultado pendiente</td>\n",
              "      <td>True</td>\n",
              "      <td>7.0</td>\n",
              "      <td>2020.0</td>\n",
              "      <td>7</td>\n",
              "      <td>2020</td>\n",
              "    </tr>\n",
              "    <tr>\n",
              "      <th>1509336</th>\n",
              "      <td>2020-09-12</td>\n",
              "      <td>30ee15</td>\n",
              "      <td>2020-09-07</td>\n",
              "      <td>2020-09-01</td>\n",
              "      <td>2020-09-10</td>\n",
              "      <td>67</td>\n",
              "      <td>MÃ©xico</td>\n",
              "      <td>99</td>\n",
              "      <td>CIUDAD DE MÉXICO</td>\n",
              "      <td>TLALPAN</td>\n",
              "      <td>CIUDAD DE MÉXICO</td>\n",
              "      <td>MICHOACÁN DE OCAMPO</td>\n",
              "      <td>NO</td>\n",
              "      <td>NO</td>\n",
              "      <td>NO APLICA</td>\n",
              "      <td>NO</td>\n",
              "      <td>NO</td>\n",
              "      <td>NO</td>\n",
              "      <td>NO</td>\n",
              "      <td>NO</td>\n",
              "      <td>SI</td>\n",
              "      <td>NO</td>\n",
              "      <td>SI</td>\n",
              "      <td>SI</td>\n",
              "      <td>NO</td>\n",
              "      <td>NO</td>\n",
              "      <td>NO</td>\n",
              "      <td>NO ESPECIFICADO</td>\n",
              "      <td>NO</td>\n",
              "      <td>FUERA DE USMER</td>\n",
              "      <td>IMSS</td>\n",
              "      <td>HOMBRE</td>\n",
              "      <td>HOSPITALIZADO</td>\n",
              "      <td>MEXICANA</td>\n",
              "      <td>Resultado pendiente</td>\n",
              "      <td>True</td>\n",
              "      <td>9.0</td>\n",
              "      <td>2020.0</td>\n",
              "      <td>9</td>\n",
              "      <td>2020</td>\n",
              "    </tr>\n",
              "    <tr>\n",
              "      <th>1509400</th>\n",
              "      <td>2020-09-12</td>\n",
              "      <td>0978fe</td>\n",
              "      <td>2020-07-23</td>\n",
              "      <td>2020-07-21</td>\n",
              "      <td>2020-07-23</td>\n",
              "      <td>61</td>\n",
              "      <td>MÃ©xico</td>\n",
              "      <td>99</td>\n",
              "      <td>CIUDAD DE MÉXICO</td>\n",
              "      <td>GUSTAVO A. MADERO</td>\n",
              "      <td>CIUDAD DE MÉXICO</td>\n",
              "      <td>HIDALGO</td>\n",
              "      <td>NO</td>\n",
              "      <td>SI</td>\n",
              "      <td>NO</td>\n",
              "      <td>NO</td>\n",
              "      <td>SI</td>\n",
              "      <td>SI</td>\n",
              "      <td>NO</td>\n",
              "      <td>NO</td>\n",
              "      <td>NO</td>\n",
              "      <td>NO</td>\n",
              "      <td>NO</td>\n",
              "      <td>NO</td>\n",
              "      <td>NO</td>\n",
              "      <td>NO</td>\n",
              "      <td>NO ESPECIFICADO</td>\n",
              "      <td>NO ESPECIFICADO</td>\n",
              "      <td>NO</td>\n",
              "      <td>USMER</td>\n",
              "      <td>IMSS</td>\n",
              "      <td>MUJER</td>\n",
              "      <td>HOSPITALIZADO</td>\n",
              "      <td>MEXICANA</td>\n",
              "      <td>Resultado pendiente</td>\n",
              "      <td>True</td>\n",
              "      <td>7.0</td>\n",
              "      <td>2020.0</td>\n",
              "      <td>7</td>\n",
              "      <td>2020</td>\n",
              "    </tr>\n",
              "    <tr>\n",
              "      <th>1510217</th>\n",
              "      <td>2020-09-12</td>\n",
              "      <td>08574d</td>\n",
              "      <td>2020-09-01</td>\n",
              "      <td>2020-08-30</td>\n",
              "      <td>2020-09-01</td>\n",
              "      <td>67</td>\n",
              "      <td>MÃ©xico</td>\n",
              "      <td>99</td>\n",
              "      <td>CIUDAD DE MÉXICO</td>\n",
              "      <td>VENUSTIANO CARRANZA</td>\n",
              "      <td>CIUDAD DE MÉXICO</td>\n",
              "      <td>CIUDAD DE MÉXICO</td>\n",
              "      <td>NO</td>\n",
              "      <td>NO</td>\n",
              "      <td>NO</td>\n",
              "      <td>NO</td>\n",
              "      <td>NO</td>\n",
              "      <td>NO</td>\n",
              "      <td>NO</td>\n",
              "      <td>NO</td>\n",
              "      <td>SI</td>\n",
              "      <td>NO</td>\n",
              "      <td>NO</td>\n",
              "      <td>NO</td>\n",
              "      <td>NO</td>\n",
              "      <td>SI</td>\n",
              "      <td>NO</td>\n",
              "      <td>NO ESPECIFICADO</td>\n",
              "      <td>NO</td>\n",
              "      <td>USMER</td>\n",
              "      <td>IMSS</td>\n",
              "      <td>MUJER</td>\n",
              "      <td>HOSPITALIZADO</td>\n",
              "      <td>MEXICANA</td>\n",
              "      <td>Resultado pendiente</td>\n",
              "      <td>True</td>\n",
              "      <td>9.0</td>\n",
              "      <td>2020.0</td>\n",
              "      <td>9</td>\n",
              "      <td>2020</td>\n",
              "    </tr>\n",
              "  </tbody>\n",
              "</table>\n",
              "<p>12012 rows × 40 columns</p>\n",
              "</div>"
            ],
            "text/plain": [
              "        fecha_actualizacion id_registro  ... mes_ingreso año_ingreso\n",
              "6                2020-09-12      1a73c1  ...           5        2020\n",
              "9                2020-09-12      022691  ...           4        2020\n",
              "14               2020-09-12      1c1c5a  ...           5        2020\n",
              "19               2020-09-12      08eb00  ...           4        2020\n",
              "28               2020-09-12      16e67a  ...           4        2020\n",
              "...                     ...         ...  ...         ...         ...\n",
              "1509068          2020-09-12      07c459  ...           8        2020\n",
              "1509283          2020-09-12      1102db  ...           7        2020\n",
              "1509336          2020-09-12      30ee15  ...           9        2020\n",
              "1509400          2020-09-12      0978fe  ...           7        2020\n",
              "1510217          2020-09-12      08574d  ...           9        2020\n",
              "\n",
              "[12012 rows x 40 columns]"
            ]
          },
          "metadata": {
            "tags": []
          },
          "execution_count": 140
        }
      ]
    },
    {
      "cell_type": "code",
      "metadata": {
        "id": "IJpitzLyRoBj",
        "colab_type": "code",
        "colab": {
          "base_uri": "https://localhost:8080/",
          "height": 119
        },
        "outputId": "e11b12b6-998c-4089-8464-7df3d2c5ea85"
      },
      "source": [
        "# ¿Cuántos fallecimientos han ocurrido en los pacientes Ambulatorios?\n",
        "# Respuesta: 9 609 fallecimientos\n",
        "\n",
        "data.groupby('tipo_paciente').defuncion.value_counts()"
      ],
      "execution_count": 141,
      "outputs": [
        {
          "output_type": "execute_result",
          "data": {
            "text/plain": [
              "tipo_paciente  defuncion\n",
              "AMBULATORIO    False        1239285\n",
              "               True            9609\n",
              "HOSPITALIZADO  False         180831\n",
              "               True           80586\n",
              "Name: defuncion, dtype: int64"
            ]
          },
          "metadata": {
            "tags": []
          },
          "execution_count": 141
        }
      ]
    },
    {
      "cell_type": "markdown",
      "metadata": {
        "id": "T7NS_uk_pUK6",
        "colab_type": "text"
      },
      "source": [
        "<p align=\"center\">\n",
        "<img src=\"http://codeandomexico.org/resources/img/codeandomexico.png\" width=\"500\" alt=\"Codeando México\"><br>\n",
        "<a href=\"http://www.codeandomexico.org/\" target=\"_blank\"><img src=\"https://img.shields.io/badge/website-CodeandoMexico-00D88E.svg\"></a>\n",
        "<a href=\"http://slack.codeandomexico.org/\" target=\"_blank\"><img src=\"https://img.shields.io/badge/slack-CodeandoMexico-EC0E4F.svg\"></a>\n",
        "</p>\n",
        "<!-- __ -->\n",
        "\n",
        "# Curso de Datos Abiertos y Hacking Cívico\n",
        "\n",
        "Este curso tiene como objetivo habilitar las capacidades de la ciudadanía y los servidores públicos en el uso y generación de datos abiertos para el bien común. Puedes encontrar más información [aquí](https://github.com/CodeandoMexico/hacking-civico)."
      ]
    },
    {
      "cell_type": "markdown",
      "metadata": {
        "id": "azfLcEkBR9jv",
        "colab_type": "text"
      },
      "source": [
        "# Exploración de datos: COVID-19 en México\n",
        "\n",
        "En este cuaderno aprenderemos algunas bases de exploración de datos. Los datos a utilizar son los datos abiertos sobre COVID-19 en México, los cuales pueden ser accedidos directamente desde el portal: https://www.gob.mx/salud/documentos/datos-abiertos-152127\n",
        "\n",
        "Del portal de datos abiertos podemos encontrar dos enlaces, uno para descargar el conjunto de datos y otro para descargar el diccionario; así que podemos automatizar el proceso de descarga y descompresión de la información.\n",
        "\n",
        "Para obtener los datos, sólo basta que ejecutes la siguiente línea de código, que contiene el comando de descarga de la información."
      ]
    },
    {
      "cell_type": "code",
      "metadata": {
        "id": "yPNA6QJjqFZg",
        "colab_type": "code",
        "colab": {}
      },
      "source": [
        "# Para descargar el conjunto de datos\n",
        "!wget http://datosabiertos.salud.gob.mx/gobmx/salud/datos_abiertos/datos_abiertos_covid19.zip\n",
        "\n",
        "# Para descargar el diccionario de los datos\n",
        "!wget http://epidemiologia.salud.gob.mx/gobmx/salud/datos_abiertos/diccionario_datos_covid19.zip\n",
        "\n",
        "# Descomprimimos ambas carpetas y movemos archivos\n",
        "!unzip datos_abiertos_covid19.zip\n",
        "!unzip diccionario_datos_covid19.zip\n",
        "!mv ./diccionario_datos_covid19/*.xlsx .\n",
        "!mv *COVID19MEXICO.csv COVID19MEXICO.csv\n",
        "\n",
        "# Eliminamos las carpetas comprimidas\n",
        "!rm -rf diccionario_datos_covid19\n",
        "!rm datos_abiertos_covid19.zip\n",
        "!rm diccionario_datos_covid19.zip"
      ],
      "execution_count": null,
      "outputs": []
    },
    {
      "cell_type": "code",
      "metadata": {
        "id": "FOtMXIbPjSjN",
        "colab_type": "code",
        "colab": {}
      },
      "source": [
        "from google.colab import drive\n",
        "drive.mount('/content/drive')"
      ],
      "execution_count": null,
      "outputs": []
    },
    {
      "cell_type": "markdown",
      "metadata": {
        "id": "tt5KIbXgsc4q",
        "colab_type": "text"
      },
      "source": [
        "Hasta este punto, si abres la barra lateral izaquiera, deberías ser capaz de encontrar los datos:\n",
        "\n",
        "- `COVID19MEXICO.csv`\n",
        "- `Catalogos_0412.xlsx`\n",
        "- `Descriptores_0419.xlsx`\n",
        "\n",
        "👈🏼"
      ]
    },
    {
      "cell_type": "markdown",
      "metadata": {
        "id": "0CfIFLH7YHXE",
        "colab_type": "text"
      },
      "source": [
        "## Carga\n",
        "\n",
        "Ahora que tenemos los datos, procederemos a cargarlos. Para cargar los datos, primero importaremos algunos paquetes de Python, pues su funcionalidad nos será muy util."
      ]
    },
    {
      "cell_type": "code",
      "metadata": {
        "id": "M09sjPpIYLOZ",
        "colab_type": "code",
        "colab": {}
      },
      "source": [
        "import statistics\n",
        "\n",
        "import pandas as pd\n",
        "import numpy as np"
      ],
      "execution_count": 2,
      "outputs": []
    },
    {
      "cell_type": "code",
      "metadata": {
        "id": "LzZRHpnclPvj",
        "colab_type": "code",
        "colab": {}
      },
      "source": [
        "# Especificamos el nombre del archivo por abrir\n",
        "nombre_archivo = 'COVID19MEXICO.csv'\n",
        "\n",
        "# Utilizamos la función de Pandas para cargar un archivo CSV\n",
        "data = pd.read_csv(nombre_archivo, encoding='latin-1')"
      ],
      "execution_count": 3,
      "outputs": []
    },
    {
      "cell_type": "markdown",
      "metadata": {
        "id": "lyEfLDYKtibj",
        "colab_type": "text"
      },
      "source": [
        "Mostramos la cabeza (primeros elementos del archivo)."
      ]
    },
    {
      "cell_type": "code",
      "metadata": {
        "id": "PNeCAgfQqMf6",
        "colab_type": "code",
        "colab": {
          "base_uri": "https://localhost:8080/",
          "height": 224
        },
        "outputId": "e0d18120-ca38-42c9-efc2-1cb209d539d8"
      },
      "source": [
        "data.head()"
      ],
      "execution_count": 4,
      "outputs": [
        {
          "output_type": "execute_result",
          "data": {
            "text/html": [
              "<div>\n",
              "<style scoped>\n",
              "    .dataframe tbody tr th:only-of-type {\n",
              "        vertical-align: middle;\n",
              "    }\n",
              "\n",
              "    .dataframe tbody tr th {\n",
              "        vertical-align: top;\n",
              "    }\n",
              "\n",
              "    .dataframe thead th {\n",
              "        text-align: right;\n",
              "    }\n",
              "</style>\n",
              "<table border=\"1\" class=\"dataframe\">\n",
              "  <thead>\n",
              "    <tr style=\"text-align: right;\">\n",
              "      <th></th>\n",
              "      <th>FECHA_ACTUALIZACION</th>\n",
              "      <th>ID_REGISTRO</th>\n",
              "      <th>ORIGEN</th>\n",
              "      <th>SECTOR</th>\n",
              "      <th>ENTIDAD_UM</th>\n",
              "      <th>SEXO</th>\n",
              "      <th>ENTIDAD_NAC</th>\n",
              "      <th>ENTIDAD_RES</th>\n",
              "      <th>MUNICIPIO_RES</th>\n",
              "      <th>TIPO_PACIENTE</th>\n",
              "      <th>FECHA_INGRESO</th>\n",
              "      <th>FECHA_SINTOMAS</th>\n",
              "      <th>FECHA_DEF</th>\n",
              "      <th>INTUBADO</th>\n",
              "      <th>NEUMONIA</th>\n",
              "      <th>EDAD</th>\n",
              "      <th>NACIONALIDAD</th>\n",
              "      <th>EMBARAZO</th>\n",
              "      <th>HABLA_LENGUA_INDIG</th>\n",
              "      <th>DIABETES</th>\n",
              "      <th>EPOC</th>\n",
              "      <th>ASMA</th>\n",
              "      <th>INMUSUPR</th>\n",
              "      <th>HIPERTENSION</th>\n",
              "      <th>OTRA_COM</th>\n",
              "      <th>CARDIOVASCULAR</th>\n",
              "      <th>OBESIDAD</th>\n",
              "      <th>RENAL_CRONICA</th>\n",
              "      <th>TABAQUISMO</th>\n",
              "      <th>OTRO_CASO</th>\n",
              "      <th>RESULTADO</th>\n",
              "      <th>MIGRANTE</th>\n",
              "      <th>PAIS_NACIONALIDAD</th>\n",
              "      <th>PAIS_ORIGEN</th>\n",
              "      <th>UCI</th>\n",
              "    </tr>\n",
              "  </thead>\n",
              "  <tbody>\n",
              "    <tr>\n",
              "      <th>0</th>\n",
              "      <td>2020-09-12</td>\n",
              "      <td>114cd3</td>\n",
              "      <td>2</td>\n",
              "      <td>3</td>\n",
              "      <td>27</td>\n",
              "      <td>1</td>\n",
              "      <td>27</td>\n",
              "      <td>27</td>\n",
              "      <td>4</td>\n",
              "      <td>1</td>\n",
              "      <td>2020-07-06</td>\n",
              "      <td>2020-06-29</td>\n",
              "      <td>9999-99-99</td>\n",
              "      <td>97</td>\n",
              "      <td>2</td>\n",
              "      <td>52</td>\n",
              "      <td>1</td>\n",
              "      <td>2</td>\n",
              "      <td>2</td>\n",
              "      <td>2</td>\n",
              "      <td>2</td>\n",
              "      <td>2</td>\n",
              "      <td>2</td>\n",
              "      <td>2</td>\n",
              "      <td>2</td>\n",
              "      <td>2</td>\n",
              "      <td>2</td>\n",
              "      <td>2</td>\n",
              "      <td>2</td>\n",
              "      <td>1</td>\n",
              "      <td>1</td>\n",
              "      <td>99</td>\n",
              "      <td>MÃ©xico</td>\n",
              "      <td>99</td>\n",
              "      <td>97</td>\n",
              "    </tr>\n",
              "    <tr>\n",
              "      <th>1</th>\n",
              "      <td>2020-09-12</td>\n",
              "      <td>0bafd8</td>\n",
              "      <td>2</td>\n",
              "      <td>4</td>\n",
              "      <td>15</td>\n",
              "      <td>2</td>\n",
              "      <td>15</td>\n",
              "      <td>15</td>\n",
              "      <td>106</td>\n",
              "      <td>2</td>\n",
              "      <td>2020-04-29</td>\n",
              "      <td>2020-04-28</td>\n",
              "      <td>2020-05-09</td>\n",
              "      <td>1</td>\n",
              "      <td>2</td>\n",
              "      <td>57</td>\n",
              "      <td>1</td>\n",
              "      <td>97</td>\n",
              "      <td>2</td>\n",
              "      <td>2</td>\n",
              "      <td>2</td>\n",
              "      <td>2</td>\n",
              "      <td>2</td>\n",
              "      <td>2</td>\n",
              "      <td>2</td>\n",
              "      <td>2</td>\n",
              "      <td>2</td>\n",
              "      <td>2</td>\n",
              "      <td>2</td>\n",
              "      <td>99</td>\n",
              "      <td>1</td>\n",
              "      <td>99</td>\n",
              "      <td>MÃ©xico</td>\n",
              "      <td>99</td>\n",
              "      <td>2</td>\n",
              "    </tr>\n",
              "    <tr>\n",
              "      <th>2</th>\n",
              "      <td>2020-09-12</td>\n",
              "      <td>18747a</td>\n",
              "      <td>2</td>\n",
              "      <td>4</td>\n",
              "      <td>25</td>\n",
              "      <td>1</td>\n",
              "      <td>25</td>\n",
              "      <td>25</td>\n",
              "      <td>12</td>\n",
              "      <td>1</td>\n",
              "      <td>2020-04-14</td>\n",
              "      <td>2020-04-10</td>\n",
              "      <td>9999-99-99</td>\n",
              "      <td>97</td>\n",
              "      <td>2</td>\n",
              "      <td>44</td>\n",
              "      <td>1</td>\n",
              "      <td>2</td>\n",
              "      <td>2</td>\n",
              "      <td>1</td>\n",
              "      <td>2</td>\n",
              "      <td>2</td>\n",
              "      <td>2</td>\n",
              "      <td>1</td>\n",
              "      <td>2</td>\n",
              "      <td>2</td>\n",
              "      <td>1</td>\n",
              "      <td>2</td>\n",
              "      <td>2</td>\n",
              "      <td>99</td>\n",
              "      <td>1</td>\n",
              "      <td>99</td>\n",
              "      <td>MÃ©xico</td>\n",
              "      <td>99</td>\n",
              "      <td>97</td>\n",
              "    </tr>\n",
              "    <tr>\n",
              "      <th>3</th>\n",
              "      <td>2020-09-12</td>\n",
              "      <td>174174</td>\n",
              "      <td>2</td>\n",
              "      <td>4</td>\n",
              "      <td>9</td>\n",
              "      <td>2</td>\n",
              "      <td>12</td>\n",
              "      <td>9</td>\n",
              "      <td>7</td>\n",
              "      <td>1</td>\n",
              "      <td>2020-04-18</td>\n",
              "      <td>2020-04-11</td>\n",
              "      <td>9999-99-99</td>\n",
              "      <td>97</td>\n",
              "      <td>1</td>\n",
              "      <td>28</td>\n",
              "      <td>1</td>\n",
              "      <td>97</td>\n",
              "      <td>2</td>\n",
              "      <td>2</td>\n",
              "      <td>2</td>\n",
              "      <td>2</td>\n",
              "      <td>2</td>\n",
              "      <td>2</td>\n",
              "      <td>2</td>\n",
              "      <td>2</td>\n",
              "      <td>2</td>\n",
              "      <td>2</td>\n",
              "      <td>2</td>\n",
              "      <td>99</td>\n",
              "      <td>1</td>\n",
              "      <td>99</td>\n",
              "      <td>MÃ©xico</td>\n",
              "      <td>99</td>\n",
              "      <td>97</td>\n",
              "    </tr>\n",
              "    <tr>\n",
              "      <th>4</th>\n",
              "      <td>2020-09-12</td>\n",
              "      <td>0eae86</td>\n",
              "      <td>2</td>\n",
              "      <td>4</td>\n",
              "      <td>30</td>\n",
              "      <td>2</td>\n",
              "      <td>15</td>\n",
              "      <td>30</td>\n",
              "      <td>4</td>\n",
              "      <td>2</td>\n",
              "      <td>2020-04-21</td>\n",
              "      <td>2020-04-21</td>\n",
              "      <td>9999-99-99</td>\n",
              "      <td>1</td>\n",
              "      <td>2</td>\n",
              "      <td>53</td>\n",
              "      <td>1</td>\n",
              "      <td>97</td>\n",
              "      <td>2</td>\n",
              "      <td>2</td>\n",
              "      <td>2</td>\n",
              "      <td>2</td>\n",
              "      <td>2</td>\n",
              "      <td>2</td>\n",
              "      <td>2</td>\n",
              "      <td>2</td>\n",
              "      <td>2</td>\n",
              "      <td>2</td>\n",
              "      <td>2</td>\n",
              "      <td>2</td>\n",
              "      <td>1</td>\n",
              "      <td>99</td>\n",
              "      <td>MÃ©xico</td>\n",
              "      <td>99</td>\n",
              "      <td>1</td>\n",
              "    </tr>\n",
              "  </tbody>\n",
              "</table>\n",
              "</div>"
            ],
            "text/plain": [
              "  FECHA_ACTUALIZACION ID_REGISTRO  ORIGEN  ...  PAIS_NACIONALIDAD  PAIS_ORIGEN  UCI\n",
              "0          2020-09-12      114cd3       2  ...            MÃ©xico           99   97\n",
              "1          2020-09-12      0bafd8       2  ...            MÃ©xico           99    2\n",
              "2          2020-09-12      18747a       2  ...            MÃ©xico           99   97\n",
              "3          2020-09-12      174174       2  ...            MÃ©xico           99   97\n",
              "4          2020-09-12      0eae86       2  ...            MÃ©xico           99    1\n",
              "\n",
              "[5 rows x 35 columns]"
            ]
          },
          "metadata": {
            "tags": []
          },
          "execution_count": 4
        }
      ]
    },
    {
      "cell_type": "markdown",
      "metadata": {
        "id": "oPbuQM-3t5fA",
        "colab_type": "text"
      },
      "source": [
        "Ahora procedemos a cargar el archivo con los descriptores."
      ]
    },
    {
      "cell_type": "code",
      "metadata": {
        "id": "gO6XRvTcltp0",
        "colab_type": "code",
        "colab": {}
      },
      "source": [
        "nombre_diccionario = 'Descriptores_0419.xlsx'\n",
        "diccionario = pd.read_excel(nombre_diccionario)"
      ],
      "execution_count": 5,
      "outputs": []
    },
    {
      "cell_type": "code",
      "metadata": {
        "id": "xLsgKwYWl8vX",
        "colab_type": "code",
        "colab": {
          "base_uri": "https://localhost:8080/",
          "height": 1000
        },
        "outputId": "f8515754-a255-4e3f-d751-45c6e865790f"
      },
      "source": [
        "diccionario"
      ],
      "execution_count": 6,
      "outputs": [
        {
          "output_type": "execute_result",
          "data": {
            "text/html": [
              "<div>\n",
              "<style scoped>\n",
              "    .dataframe tbody tr th:only-of-type {\n",
              "        vertical-align: middle;\n",
              "    }\n",
              "\n",
              "    .dataframe tbody tr th {\n",
              "        vertical-align: top;\n",
              "    }\n",
              "\n",
              "    .dataframe thead th {\n",
              "        text-align: right;\n",
              "    }\n",
              "</style>\n",
              "<table border=\"1\" class=\"dataframe\">\n",
              "  <thead>\n",
              "    <tr style=\"text-align: right;\">\n",
              "      <th></th>\n",
              "      <th>Nº</th>\n",
              "      <th>NOMBRE DE VARIABLE</th>\n",
              "      <th>DESCRIPCIÓN DE VARIABLE</th>\n",
              "      <th>FORMATO O FUENTE</th>\n",
              "    </tr>\n",
              "  </thead>\n",
              "  <tbody>\n",
              "    <tr>\n",
              "      <th>0</th>\n",
              "      <td>1</td>\n",
              "      <td>FECHA_ACTUALIZACION</td>\n",
              "      <td>La base de datos se alimenta diariamente, esta...</td>\n",
              "      <td>AAAA-MM-DD</td>\n",
              "    </tr>\n",
              "    <tr>\n",
              "      <th>1</th>\n",
              "      <td>2</td>\n",
              "      <td>ID_REGISTRO</td>\n",
              "      <td>Número identificador del caso</td>\n",
              "      <td>TEXTO</td>\n",
              "    </tr>\n",
              "    <tr>\n",
              "      <th>2</th>\n",
              "      <td>3</td>\n",
              "      <td>ORIGEN</td>\n",
              "      <td>La vigilancia centinela se realiza a través de...</td>\n",
              "      <td>CATÁLOGO: ORIGEN                              ...</td>\n",
              "    </tr>\n",
              "    <tr>\n",
              "      <th>3</th>\n",
              "      <td>4</td>\n",
              "      <td>SECTOR</td>\n",
              "      <td>Identifica el tipo de institución del Sistema ...</td>\n",
              "      <td>CATÁLOGO: SECTOR                              ...</td>\n",
              "    </tr>\n",
              "    <tr>\n",
              "      <th>4</th>\n",
              "      <td>5</td>\n",
              "      <td>ENTIDAD_UM</td>\n",
              "      <td>Identifica la entidad donde se ubica la unidad...</td>\n",
              "      <td>CATALÓGO: ENTIDADES</td>\n",
              "    </tr>\n",
              "    <tr>\n",
              "      <th>5</th>\n",
              "      <td>6</td>\n",
              "      <td>SEXO</td>\n",
              "      <td>Identifica al sexo del paciente.</td>\n",
              "      <td>CATÁLOGO: SEXO</td>\n",
              "    </tr>\n",
              "    <tr>\n",
              "      <th>6</th>\n",
              "      <td>7</td>\n",
              "      <td>ENTIDAD_NAC</td>\n",
              "      <td>Identifica la entidad de nacimiento del paciente.</td>\n",
              "      <td>CATALÓGO: ENTIDADES</td>\n",
              "    </tr>\n",
              "    <tr>\n",
              "      <th>7</th>\n",
              "      <td>8</td>\n",
              "      <td>ENTIDAD_RES</td>\n",
              "      <td>Identifica la entidad de residencia del paciente.</td>\n",
              "      <td>CATALÓGO: ENTIDADES</td>\n",
              "    </tr>\n",
              "    <tr>\n",
              "      <th>8</th>\n",
              "      <td>9</td>\n",
              "      <td>MUNICIPIO_RES</td>\n",
              "      <td>Identifica el municipio de residencia del paci...</td>\n",
              "      <td>CATALÓGO: MUNICIPIOS</td>\n",
              "    </tr>\n",
              "    <tr>\n",
              "      <th>9</th>\n",
              "      <td>10</td>\n",
              "      <td>TIPO_PACIENTE</td>\n",
              "      <td>Identifica el tipo de atención que recibió el ...</td>\n",
              "      <td>CATÁLOGO: TIPO_PACIENTE</td>\n",
              "    </tr>\n",
              "    <tr>\n",
              "      <th>10</th>\n",
              "      <td>11</td>\n",
              "      <td>FECHA_INGRESO</td>\n",
              "      <td>Identifica la fecha de ingreso del paciente a ...</td>\n",
              "      <td>AAAA-MM-DD</td>\n",
              "    </tr>\n",
              "    <tr>\n",
              "      <th>11</th>\n",
              "      <td>12</td>\n",
              "      <td>FECHA_SINTOMAS</td>\n",
              "      <td>Idenitifica la fecha en que inició la sintomat...</td>\n",
              "      <td>AAAA-MM-DD</td>\n",
              "    </tr>\n",
              "    <tr>\n",
              "      <th>12</th>\n",
              "      <td>13</td>\n",
              "      <td>FECHA_DEF</td>\n",
              "      <td>Identifica la fecha en que el paciente falleció.</td>\n",
              "      <td>AAAA-MM-DD</td>\n",
              "    </tr>\n",
              "    <tr>\n",
              "      <th>13</th>\n",
              "      <td>14</td>\n",
              "      <td>INTUBADO</td>\n",
              "      <td>Identifica si el paciente requirió de intubación.</td>\n",
              "      <td>CATÁLOGO: SI_ NO                              ...</td>\n",
              "    </tr>\n",
              "    <tr>\n",
              "      <th>14</th>\n",
              "      <td>15</td>\n",
              "      <td>NEUMONIA</td>\n",
              "      <td>Identifica si al paciente se le diagnosticó co...</td>\n",
              "      <td>CATÁLOGO: SI_ NO                              ...</td>\n",
              "    </tr>\n",
              "    <tr>\n",
              "      <th>15</th>\n",
              "      <td>16</td>\n",
              "      <td>EDAD</td>\n",
              "      <td>Identifica la edad del paciente.</td>\n",
              "      <td>NÚMERICA EN AÑOS</td>\n",
              "    </tr>\n",
              "    <tr>\n",
              "      <th>16</th>\n",
              "      <td>17</td>\n",
              "      <td>NACIONALIDAD</td>\n",
              "      <td>Identifica si el paciente es mexicano o extran...</td>\n",
              "      <td>CATÁLOGO: NACIONALIDAD</td>\n",
              "    </tr>\n",
              "    <tr>\n",
              "      <th>17</th>\n",
              "      <td>18</td>\n",
              "      <td>EMBARAZO</td>\n",
              "      <td>Identifica si la paciente está embarazada.</td>\n",
              "      <td>CATÁLOGO: SI_ NO                              ...</td>\n",
              "    </tr>\n",
              "    <tr>\n",
              "      <th>18</th>\n",
              "      <td>19</td>\n",
              "      <td>HABLA_LENGUA_INDIG</td>\n",
              "      <td>Identifica si el paciente habla lengua índigena.</td>\n",
              "      <td>CATÁLOGO: SI_ NO                              ...</td>\n",
              "    </tr>\n",
              "    <tr>\n",
              "      <th>19</th>\n",
              "      <td>20</td>\n",
              "      <td>DIABETES</td>\n",
              "      <td>Identifica si el paciente tiene un diagnóstico...</td>\n",
              "      <td>CATÁLOGO: SI_ NO                              ...</td>\n",
              "    </tr>\n",
              "    <tr>\n",
              "      <th>20</th>\n",
              "      <td>21</td>\n",
              "      <td>EPOC</td>\n",
              "      <td>Identifica si el paciente tiene un diagnóstico...</td>\n",
              "      <td>CATÁLOGO: SI_ NO                              ...</td>\n",
              "    </tr>\n",
              "    <tr>\n",
              "      <th>21</th>\n",
              "      <td>22</td>\n",
              "      <td>ASMA</td>\n",
              "      <td>Identifica si el paciente tiene un diagnóstico...</td>\n",
              "      <td>CATÁLOGO: SI_ NO                              ...</td>\n",
              "    </tr>\n",
              "    <tr>\n",
              "      <th>22</th>\n",
              "      <td>23</td>\n",
              "      <td>INMUSUPR</td>\n",
              "      <td>Identifica si el paciente presenta inmunosupre...</td>\n",
              "      <td>CATÁLOGO: SI_ NO                              ...</td>\n",
              "    </tr>\n",
              "    <tr>\n",
              "      <th>23</th>\n",
              "      <td>24</td>\n",
              "      <td>HIPERTENSION</td>\n",
              "      <td>Identifica si el paciente tiene un diagnóstico...</td>\n",
              "      <td>CATÁLOGO: SI_ NO                              ...</td>\n",
              "    </tr>\n",
              "    <tr>\n",
              "      <th>24</th>\n",
              "      <td>25</td>\n",
              "      <td>OTRAS_COM</td>\n",
              "      <td>Identifica si el paciente tiene diagnóstico de...</td>\n",
              "      <td>CATÁLOGO: SI_ NO                              ...</td>\n",
              "    </tr>\n",
              "    <tr>\n",
              "      <th>25</th>\n",
              "      <td>26</td>\n",
              "      <td>CARDIOVASCULAR</td>\n",
              "      <td>Identifica si el paciente tiene un diagnóstico...</td>\n",
              "      <td>CATÁLOGO: SI_ NO                              ...</td>\n",
              "    </tr>\n",
              "    <tr>\n",
              "      <th>26</th>\n",
              "      <td>27</td>\n",
              "      <td>OBESIDAD</td>\n",
              "      <td>Identifica si el paciente tiene diagnóstico de...</td>\n",
              "      <td>CATÁLOGO: SI_ NO                              ...</td>\n",
              "    </tr>\n",
              "    <tr>\n",
              "      <th>27</th>\n",
              "      <td>28</td>\n",
              "      <td>RENAL_CRONICA</td>\n",
              "      <td>Identifica si el paciente tiene diagnóstico de...</td>\n",
              "      <td>CATÁLOGO: SI_ NO                              ...</td>\n",
              "    </tr>\n",
              "    <tr>\n",
              "      <th>28</th>\n",
              "      <td>29</td>\n",
              "      <td>TABAQUISMO</td>\n",
              "      <td>Identifica si el paciente tiene hábito de taba...</td>\n",
              "      <td>CATÁLOGO: SI_ NO                              ...</td>\n",
              "    </tr>\n",
              "    <tr>\n",
              "      <th>29</th>\n",
              "      <td>30</td>\n",
              "      <td>OTRO_CASO</td>\n",
              "      <td>Identifica si el paciente tuvo contacto con al...</td>\n",
              "      <td>CATÁLOGO: SI_ NO                              ...</td>\n",
              "    </tr>\n",
              "    <tr>\n",
              "      <th>30</th>\n",
              "      <td>31</td>\n",
              "      <td>RESULTADO</td>\n",
              "      <td>Identifica el resultado del análisis de la mue...</td>\n",
              "      <td>CATÁLOGO: RESULTADO</td>\n",
              "    </tr>\n",
              "    <tr>\n",
              "      <th>31</th>\n",
              "      <td>32</td>\n",
              "      <td>MIGRANTE</td>\n",
              "      <td>Identifica si el paciente es una persona migra...</td>\n",
              "      <td>CATÁLOGO: SI_ NO                              ...</td>\n",
              "    </tr>\n",
              "    <tr>\n",
              "      <th>32</th>\n",
              "      <td>33</td>\n",
              "      <td>PAIS_NACIONALIDAD</td>\n",
              "      <td>Identifica la nacionalidad del paciente.</td>\n",
              "      <td>TEXTO, 99= SE IGNORA</td>\n",
              "    </tr>\n",
              "    <tr>\n",
              "      <th>33</th>\n",
              "      <td>34</td>\n",
              "      <td>PAIS_ORIGEN</td>\n",
              "      <td>Identifica el país del que partió el paciente ...</td>\n",
              "      <td>TEXTO, 97= NO APLICA</td>\n",
              "    </tr>\n",
              "    <tr>\n",
              "      <th>34</th>\n",
              "      <td>35</td>\n",
              "      <td>UCI</td>\n",
              "      <td>Identifica si el paciente requirió ingresar a ...</td>\n",
              "      <td>CATÁLOGO: SI_ NO                              ...</td>\n",
              "    </tr>\n",
              "  </tbody>\n",
              "</table>\n",
              "</div>"
            ],
            "text/plain": [
              "    Nº  ...                                   FORMATO O FUENTE\n",
              "0    1  ...                                         AAAA-MM-DD\n",
              "1    2  ...                                             TEXTO \n",
              "2    3  ...  CATÁLOGO: ORIGEN                              ...\n",
              "3    4  ...  CATÁLOGO: SECTOR                              ...\n",
              "4    5  ...                                CATALÓGO: ENTIDADES\n",
              "5    6  ...       CATÁLOGO: SEXO                              \n",
              "6    7  ...                                CATALÓGO: ENTIDADES\n",
              "7    8  ...                                CATALÓGO: ENTIDADES\n",
              "8    9  ...                               CATALÓGO: MUNICIPIOS\n",
              "9   10  ...                           CATÁLOGO: TIPO_PACIENTE \n",
              "10  11  ...                                         AAAA-MM-DD\n",
              "11  12  ...                                         AAAA-MM-DD\n",
              "12  13  ...                                         AAAA-MM-DD\n",
              "13  14  ...  CATÁLOGO: SI_ NO                              ...\n",
              "14  15  ...  CATÁLOGO: SI_ NO                              ...\n",
              "15  16  ...                                   NÚMERICA EN AÑOS\n",
              "16  17  ...                            CATÁLOGO: NACIONALIDAD \n",
              "17  18  ...  CATÁLOGO: SI_ NO                              ...\n",
              "18  19  ...  CATÁLOGO: SI_ NO                              ...\n",
              "19  20  ...  CATÁLOGO: SI_ NO                              ...\n",
              "20  21  ...  CATÁLOGO: SI_ NO                              ...\n",
              "21  22  ...  CATÁLOGO: SI_ NO                              ...\n",
              "22  23  ...  CATÁLOGO: SI_ NO                              ...\n",
              "23  24  ...  CATÁLOGO: SI_ NO                              ...\n",
              "24  25  ...  CATÁLOGO: SI_ NO                              ...\n",
              "25  26  ...  CATÁLOGO: SI_ NO                              ...\n",
              "26  27  ...  CATÁLOGO: SI_ NO                              ...\n",
              "27  28  ...  CATÁLOGO: SI_ NO                              ...\n",
              "28  29  ...  CATÁLOGO: SI_ NO                              ...\n",
              "29  30  ...  CATÁLOGO: SI_ NO                              ...\n",
              "30  31  ...                                CATÁLOGO: RESULTADO\n",
              "31  32  ...  CATÁLOGO: SI_ NO                              ...\n",
              "32  33  ...                               TEXTO, 99= SE IGNORA\n",
              "33  34  ...                               TEXTO, 97= NO APLICA\n",
              "34  35  ...  CATÁLOGO: SI_ NO                              ...\n",
              "\n",
              "[35 rows x 4 columns]"
            ]
          },
          "metadata": {
            "tags": []
          },
          "execution_count": 6
        }
      ]
    },
    {
      "cell_type": "markdown",
      "metadata": {
        "id": "vpXR83GDuE8H",
        "colab_type": "text"
      },
      "source": [
        "Finalmente, cargamos el rachivo de catálogos."
      ]
    },
    {
      "cell_type": "code",
      "metadata": {
        "id": "LeK0_2pjog0Z",
        "colab_type": "code",
        "colab": {}
      },
      "source": [
        "nombre_cat = 'Catalogos_0412.xlsx'\n",
        "sheets = ['ORIGEN', 'SECTOR', 'SEXO', 'TIPO_PACIENTE', 'SI_NO', 'NACIONALIDAD', 'RESULTADO', 'de ENTIDADES', 'MUNICIPIOS']\n",
        "catalogues = {}\n",
        "for sheet in sheets:\n",
        "  catalogue = pd.read_excel(nombre_cat, sheet_name='Catálogo ' + sheet)\n",
        "  catalogue.columns = catalogue.columns.str.replace(' ', '_')\n",
        "  catalogue.columns = catalogue.columns.str.replace('.', '')\n",
        "  catalogue.columns = catalogue.columns.str.lower()\n",
        "  new_catalogue = {sheet: catalogue}\n",
        "  catalogues.update(new_catalogue)"
      ],
      "execution_count": 7,
      "outputs": []
    },
    {
      "cell_type": "code",
      "metadata": {
        "id": "IULUsvUPbAdw",
        "colab_type": "code",
        "colab": {
          "base_uri": "https://localhost:8080/",
          "height": 1000
        },
        "outputId": "ac341d1c-32c6-405c-972f-41d0d58fa17a"
      },
      "source": [
        "catalogues"
      ],
      "execution_count": 8,
      "outputs": [
        {
          "output_type": "execute_result",
          "data": {
            "text/plain": [
              "{'MUNICIPIOS':       clave_municipio        municipio  clave_entidad\n",
              " 0                   1   AGUASCALIENTES              1\n",
              " 1                   2         ASIENTOS              1\n",
              " 2                   3         CALVILLO              1\n",
              " 3                   4            COSÍO              1\n",
              " 4                   5      JESÚS MARÍA              1\n",
              " ...               ...              ...            ...\n",
              " 2496              999  NO ESPECIFICADO             32\n",
              " 2497              999  NO ESPECIFICADO             36\n",
              " 2498              997        NO APLICA             97\n",
              " 2499              998        SE IGNORA             98\n",
              " 2500              999  NO ESPECIFICADO             99\n",
              " \n",
              " [2501 rows x 3 columns], 'NACIONALIDAD':    clave      descripción\n",
              " 0      1         MEXICANA\n",
              " 1      2       EXTRANJERA\n",
              " 2     99  NO ESPECIFICADO, 'ORIGEN':    clave      descripción\n",
              " 0      1            USMER\n",
              " 1      2   FUERA DE USMER\n",
              " 2     99  NO ESPECIFICADO, 'RESULTADO':   unnamed:_0              unnamed:_1\n",
              " 0      CLAVE             DESCRIPCIÓN\n",
              " 1          1     Positivo SARS-CoV-2\n",
              " 2          2  No positivo SARS-CoV-2\n",
              " 3          3     Resultado pendiente, 'SECTOR':     clave      descripción\n",
              " 0       1        CRUZ ROJA\n",
              " 1       2              DIF\n",
              " 2       3          ESTATAL\n",
              " 3       4             IMSS\n",
              " 4       5   IMSS-BIENESTAR\n",
              " 5       6           ISSSTE\n",
              " 6       7        MUNICIPAL\n",
              " 7       8            PEMEX\n",
              " 8       9          PRIVADA\n",
              " 9      10           SEDENA\n",
              " 10     11            SEMAR\n",
              " 11     12              SSA\n",
              " 12     13    UNIVERSITARIO\n",
              " 13     99  NO ESPECIFICADO, 'SEXO':    clave      descripción\n",
              " 0      1            MUJER\n",
              " 1      2           HOMBRE\n",
              " 2     99  NO ESPECIFICADO, 'SI_NO':    clave      descripción\n",
              " 0      1              SI \n",
              " 1      2              NO \n",
              " 2     97        NO APLICA\n",
              " 3     98        SE IGNORA\n",
              " 4     99  NO ESPECIFICADO, 'TIPO_PACIENTE':    clave      descripción\n",
              " 0      1      AMBULATORIO\n",
              " 1      2    HOSPITALIZADO\n",
              " 2     99  NO ESPECIFICADO, 'de ENTIDADES':     clave_entidad               entidad_federativa abreviatura\n",
              " 0               1                   AGUASCALIENTES          AS\n",
              " 1               2                  BAJA CALIFORNIA          BC\n",
              " 2               3              BAJA CALIFORNIA SUR          BS\n",
              " 3               4                         CAMPECHE          CC\n",
              " 4               5             COAHUILA DE ZARAGOZA          CL\n",
              " 5               6                           COLIMA          CM\n",
              " 6               7                          CHIAPAS          CS\n",
              " 7               8                        CHIHUAHUA          CH\n",
              " 8               9                 CIUDAD DE MÉXICO          DF\n",
              " 9              10                          DURANGO          DG\n",
              " 10             11                       GUANAJUATO          GT\n",
              " 11             12                         GUERRERO          GR\n",
              " 12             13                          HIDALGO          HG\n",
              " 13             14                          JALISCO          JC\n",
              " 14             15                           MÉXICO          MC\n",
              " 15             16              MICHOACÁN DE OCAMPO          MN\n",
              " 16             17                          MORELOS          MS\n",
              " 17             18                          NAYARIT          NT\n",
              " 18             19                       NUEVO LEÓN          NL\n",
              " 19             20                           OAXACA          OC\n",
              " 20             21                           PUEBLA          PL\n",
              " 21             22                        QUERÉTARO          QT\n",
              " 22             23                     QUINTANA ROO          QR\n",
              " 23             24                  SAN LUIS POTOSÍ          SP\n",
              " 24             25                          SINALOA          SL\n",
              " 25             26                           SONORA          SR\n",
              " 26             27                          TABASCO          TC\n",
              " 27             28                       TAMAULIPAS          TS\n",
              " 28             29                         TLAXCALA          TL\n",
              " 29             30  VERACRUZ DE IGNACIO DE LA LLAVE          VZ\n",
              " 30             31                          YUCATÁN          YN\n",
              " 31             32                        ZACATECAS          ZS\n",
              " 32             36         ESTADOS UNIDOS MEXICANOS         EUM\n",
              " 33             97                        NO APLICA         NaN\n",
              " 34             98                        SE IGNORA          SI\n",
              " 35             99                  NO ESPECIFICADO          NE}"
            ]
          },
          "metadata": {
            "tags": []
          },
          "execution_count": 8
        }
      ]
    },
    {
      "cell_type": "code",
      "metadata": {
        "id": "NgM1QoTJrH7L",
        "colab_type": "code",
        "colab": {
          "base_uri": "https://localhost:8080/",
          "height": 142
        },
        "outputId": "5e002608-4acd-4368-ec2e-d18a6bc077ed"
      },
      "source": [
        "catalogues['SEXO']"
      ],
      "execution_count": 9,
      "outputs": [
        {
          "output_type": "execute_result",
          "data": {
            "text/html": [
              "<div>\n",
              "<style scoped>\n",
              "    .dataframe tbody tr th:only-of-type {\n",
              "        vertical-align: middle;\n",
              "    }\n",
              "\n",
              "    .dataframe tbody tr th {\n",
              "        vertical-align: top;\n",
              "    }\n",
              "\n",
              "    .dataframe thead th {\n",
              "        text-align: right;\n",
              "    }\n",
              "</style>\n",
              "<table border=\"1\" class=\"dataframe\">\n",
              "  <thead>\n",
              "    <tr style=\"text-align: right;\">\n",
              "      <th></th>\n",
              "      <th>clave</th>\n",
              "      <th>descripción</th>\n",
              "    </tr>\n",
              "  </thead>\n",
              "  <tbody>\n",
              "    <tr>\n",
              "      <th>0</th>\n",
              "      <td>1</td>\n",
              "      <td>MUJER</td>\n",
              "    </tr>\n",
              "    <tr>\n",
              "      <th>1</th>\n",
              "      <td>2</td>\n",
              "      <td>HOMBRE</td>\n",
              "    </tr>\n",
              "    <tr>\n",
              "      <th>2</th>\n",
              "      <td>99</td>\n",
              "      <td>NO ESPECIFICADO</td>\n",
              "    </tr>\n",
              "  </tbody>\n",
              "</table>\n",
              "</div>"
            ],
            "text/plain": [
              "   clave      descripción\n",
              "0      1            MUJER\n",
              "1      2           HOMBRE\n",
              "2     99  NO ESPECIFICADO"
            ]
          },
          "metadata": {
            "tags": []
          },
          "execution_count": 9
        }
      ]
    },
    {
      "cell_type": "markdown",
      "metadata": {
        "id": "k7GdBenHYvEP",
        "colab_type": "text"
      },
      "source": [
        "##Perfilamiento"
      ]
    },
    {
      "cell_type": "markdown",
      "metadata": {
        "id": "wNIz4rIPthlT",
        "colab_type": "text"
      },
      "source": [
        "###Descripción General"
      ]
    },
    {
      "cell_type": "code",
      "metadata": {
        "id": "8Z0yG6NpYuQf",
        "colab_type": "code",
        "colab": {}
      },
      "source": [
        "# dimensión de los datos\n",
        "print('Número de filas: {}'.format(data.shape[0]))\n",
        "print('Número de columnas: {}'.format(data.shape[1]))"
      ],
      "execution_count": null,
      "outputs": []
    },
    {
      "cell_type": "code",
      "metadata": {
        "id": "A6qtrLh6jtyG",
        "colab_type": "code",
        "colab": {}
      },
      "source": [
        "# columnas (variables)\n",
        "data.columns"
      ],
      "execution_count": null,
      "outputs": []
    },
    {
      "cell_type": "code",
      "metadata": {
        "id": "VQ2HbSGq2R9N",
        "colab_type": "code",
        "colab": {}
      },
      "source": [
        "# limpieza del nombre de las columnas, remover espacios, carácteres especiales y pasar a minúsculas\n",
        "data.columns = data.columns.str.replace(' ', '_')\n",
        "data.columns = data.columns.str.replace('.', '')\n",
        "data.columns = data.columns.str.lower()"
      ],
      "execution_count": 12,
      "outputs": []
    },
    {
      "cell_type": "code",
      "metadata": {
        "id": "hrkEFAj-AE9r",
        "colab_type": "code",
        "colab": {}
      },
      "source": [
        "# calcular número de valores nulos por columna\n",
        "for col in data.columns:\n",
        "  print('Valores nulos en \"{}\": {}'.format(col,data[col].isna().sum()))"
      ],
      "execution_count": null,
      "outputs": []
    },
    {
      "cell_type": "code",
      "metadata": {
        "id": "Qy-R4MkOkz7G",
        "colab_type": "code",
        "colab": {}
      },
      "source": [
        "# tipos de datos\n",
        "data.dtypes"
      ],
      "execution_count": null,
      "outputs": []
    },
    {
      "cell_type": "markdown",
      "metadata": {
        "id": "7ckFUUobuRH2",
        "colab_type": "text"
      },
      "source": [
        "###Limpieza"
      ]
    },
    {
      "cell_type": "code",
      "metadata": {
        "id": "4ISn-U85uWLn",
        "colab_type": "code",
        "colab": {}
      },
      "source": [
        "# convertimos a fecha algunas columnas\n",
        "def cast_datetime_cols(df):\n",
        "    timestamp_cols = [col for col in df.columns if \"fecha\" in col]\n",
        "    df[timestamp_cols] = df[timestamp_cols].apply(lambda date_col: pd.to_datetime(date_col, errors=\"coerce\"), axis=0)\n",
        "    return df\n",
        "\n",
        "data = cast_datetime_cols(data)"
      ],
      "execution_count": 15,
      "outputs": []
    },
    {
      "cell_type": "code",
      "metadata": {
        "id": "xU9ymprGxJ7r",
        "colab_type": "code",
        "colab": {}
      },
      "source": [
        "data.head()"
      ],
      "execution_count": null,
      "outputs": []
    },
    {
      "cell_type": "code",
      "metadata": {
        "id": "D8KhfZhKu9wf",
        "colab_type": "code",
        "colab": {}
      },
      "source": [
        "# unimos los datos con los catalogos para tener mejor entendimiento de ellos\n",
        "data = (\n",
        "    # unimos con el catálogo MUNICIPIOS y ENTIDADES\n",
        "    data.merge(catalogues['de ENTIDADES'], how='left', left_on='entidad_res', right_on='clave_entidad').\n",
        "    drop(columns=['entidad_res', 'abreviatura']).\n",
        "    rename(columns={'entidad_federativa':'entidad_res'}).\n",
        "    merge(catalogues['MUNICIPIOS'], how='left', left_on=['clave_entidad','municipio_res'], right_on=['clave_entidad','clave_municipio']).\n",
        "    drop(columns=['municipio_res', 'clave_entidad', 'clave_municipio']).\n",
        "    rename(columns={'municipio':'municipio_res'})\n",
        ")"
      ],
      "execution_count": 17,
      "outputs": []
    },
    {
      "cell_type": "code",
      "metadata": {
        "id": "BrRuJFZZCVdt",
        "colab_type": "code",
        "colab": {}
      },
      "source": [
        "# unimos con el catálogo de ENTIDADES\n",
        "entidades_cols = [col for col in data.columns if \"entidad\" in col and col != 'entidad_res']\n",
        "for col in entidades_cols:\n",
        "    data = (\n",
        "        data.merge(catalogues['de ENTIDADES'], how='left', left_on=col, right_on='clave_entidad').\n",
        "        drop(columns=[col, 'abreviatura', 'clave_entidad']).\n",
        "        rename(columns={'entidad_federativa':col})\n",
        "    )"
      ],
      "execution_count": 18,
      "outputs": []
    },
    {
      "cell_type": "code",
      "metadata": {
        "id": "lc4J3ufC9z7c",
        "colab_type": "code",
        "colab": {}
      },
      "source": [
        "# unimos con el catálogo SI_NO\n",
        "sino_cols = ['intubado', 'neumonia', 'embarazo', 'habla_lengua_indig', 'diabetes', 'epoc', 'asma', 'inmusupr',\n",
        "             'hipertension', 'otra_com', 'cardiovascular', 'obesidad', 'renal_cronica', 'tabaquismo', \n",
        "             'otro_caso', 'migrante', 'uci']\n",
        "for col in sino_cols:\n",
        "    data = (\n",
        "        data.merge(catalogues['SI_NO'], how='left', left_on=col, right_on='clave').\n",
        "        drop(columns=[col, 'clave']).\n",
        "        rename(columns={'descripción':col})\n",
        "    )"
      ],
      "execution_count": 19,
      "outputs": []
    },
    {
      "cell_type": "markdown",
      "metadata": {
        "id": "Es0J05jBu3Zh",
        "colab_type": "text"
      },
      "source": [
        "> **Nota:**\n",
        ">\n",
        "> Si ejecutaste una versión previa del cuaderno, notarás que en la siguiente sección aparecía un error. A continuación dejamos como un pequeño paréntesis un poco más de limpieza sobre el cuaderno.\n",
        "\n",
        "1. Corregimos el nombre de las columnas:"
      ]
    },
    {
      "cell_type": "code",
      "metadata": {
        "id": "H2qOV3QGi6pp",
        "colab_type": "code",
        "colab": {
          "base_uri": "https://localhost:8080/",
          "height": 34
        },
        "outputId": "d07aed9f-8b37-4b09-8112-b789ffce6cad"
      },
      "source": [
        "catalogues['RESULTADO'].columns"
      ],
      "execution_count": 25,
      "outputs": [
        {
          "output_type": "execute_result",
          "data": {
            "text/plain": [
              "Index(['clave', 'descripción'], dtype='object')"
            ]
          },
          "metadata": {
            "tags": []
          },
          "execution_count": 25
        }
      ]
    },
    {
      "cell_type": "code",
      "metadata": {
        "id": "5SRGGO_QhgAr",
        "colab_type": "code",
        "colab": {
          "base_uri": "https://localhost:8080/",
          "height": 34
        },
        "outputId": "48655285-c14e-4aa3-979e-c4cdab455ae2"
      },
      "source": [
        "catalogues['RESULTADO'].columns = ['clave', 'descripción']\n",
        "catalogues['RESULTADO'].columns"
      ],
      "execution_count": 26,
      "outputs": [
        {
          "output_type": "execute_result",
          "data": {
            "text/plain": [
              "Index(['clave', 'descripción'], dtype='object')"
            ]
          },
          "metadata": {
            "tags": []
          },
          "execution_count": 26
        }
      ]
    },
    {
      "cell_type": "markdown",
      "metadata": {
        "id": "N2L94Ft4wFlT",
        "colab_type": "text"
      },
      "source": [
        "2. Removemos la (primera) fila que no nos es útil."
      ]
    },
    {
      "cell_type": "code",
      "metadata": {
        "id": "OexEfsUnjRMp",
        "colab_type": "code",
        "colab": {}
      },
      "source": [
        "catalogues['RESULTADO'] = catalogues['RESULTADO'].drop(index=0)"
      ],
      "execution_count": null,
      "outputs": []
    },
    {
      "cell_type": "markdown",
      "metadata": {
        "id": "7m8TvocZ0Zxn",
        "colab_type": "text"
      },
      "source": [
        "3. Convertimos el tipo de dato."
      ]
    },
    {
      "cell_type": "code",
      "metadata": {
        "id": "AyLbq461kDX_",
        "colab_type": "code",
        "colab": {}
      },
      "source": [
        "catalogues['RESULTADO']['clave'] = catalogues['RESULTADO']['clave'].astype(int)"
      ],
      "execution_count": 28,
      "outputs": []
    },
    {
      "cell_type": "markdown",
      "metadata": {
        "id": "2oPUF3VI0dWV",
        "colab_type": "text"
      },
      "source": [
        "> Fin del paréntesis. Hasta esta sección, esta parte de limpieza permite continuar con el proceso de manera normal."
      ]
    },
    {
      "cell_type": "code",
      "metadata": {
        "id": "sTqV6pDE9x0Y",
        "colab_type": "code",
        "colab": {}
      },
      "source": [
        "# unimos otras columnnas que comparten lógica\n",
        "other_cols = ['origen', 'sector', 'sexo', 'tipo_paciente', 'nacionalidad', 'resultado']\n",
        "for col, cat in zip(other_cols, [x.upper() for x in other_cols]):\n",
        "    data = (\n",
        "        data.merge(catalogues[cat], how='left', left_on=col, right_on='clave').\n",
        "        drop(columns=[col, 'clave']).\n",
        "        rename(columns={'descripción':col})\n",
        "    )"
      ],
      "execution_count": 29,
      "outputs": []
    },
    {
      "cell_type": "code",
      "metadata": {
        "id": "y9SwccZAEt8i",
        "colab_type": "code",
        "colab": {}
      },
      "source": [
        "# creamos algunas variables que podrían ser útiles después\n",
        "data['defuncion'] = ~data.fecha_def.isna()\n",
        "data['mes_def'] = data.fecha_def.dt.month\n",
        "data['año_def'] = data.fecha_def.dt.year\n",
        "data['mes_ingreso'] = data.fecha_ingreso.dt.month\n",
        "data['año_ingreso'] = data.fecha_ingreso.dt.year"
      ],
      "execution_count": 31,
      "outputs": []
    },
    {
      "cell_type": "code",
      "metadata": {
        "id": "mREmwT8g0qys",
        "colab_type": "code",
        "colab": {}
      },
      "source": [
        "data.head()"
      ],
      "execution_count": null,
      "outputs": []
    },
    {
      "cell_type": "markdown",
      "metadata": {
        "id": "8cuvw-Oqt-PB",
        "colab_type": "text"
      },
      "source": [
        "###Filtros"
      ]
    },
    {
      "cell_type": "markdown",
      "metadata": {
        "id": "RWB25OpKu4Qu",
        "colab_type": "text"
      },
      "source": [
        "**Distintas formas de filtrar lo mismo**"
      ]
    },
    {
      "cell_type": "code",
      "metadata": {
        "id": "v_CUS4lRt9XI",
        "colab_type": "code",
        "colab": {}
      },
      "source": [
        "# usando query\n",
        "data.query('nacionalidad == \"MEXICANA\"').head(2)"
      ],
      "execution_count": null,
      "outputs": []
    },
    {
      "cell_type": "code",
      "metadata": {
        "id": "uiXMDLQbvgIB",
        "colab_type": "code",
        "colab": {}
      },
      "source": [
        "# haciendo referencia a la columna como índice\n",
        "data[data['nacionalidad'] == 'MEXICANA'].head(2)"
      ],
      "execution_count": null,
      "outputs": []
    },
    {
      "cell_type": "code",
      "metadata": {
        "id": "FtcFiMcjvthY",
        "colab_type": "code",
        "colab": {}
      },
      "source": [
        "# seleccionando directamente la columna que queremos filtrar\n",
        "data[data.nacionalidad == 'MEXICANA'].head(2)"
      ],
      "execution_count": null,
      "outputs": []
    },
    {
      "cell_type": "markdown",
      "metadata": {
        "id": "4tawkDh4wMFr",
        "colab_type": "text"
      },
      "source": [
        "**Filtrado múltiple**"
      ]
    },
    {
      "cell_type": "code",
      "metadata": {
        "id": "zTLWeZwRwKUU",
        "colab_type": "code",
        "colab": {}
      },
      "source": [
        "# usando query podemos poner en el string del query todas las condiciones que queramos\n",
        "data.query('nacionalidad == \"MEXICANA\" & entidad_res == \"CIUDAD DE MÉXICO\"').head(2)"
      ],
      "execution_count": null,
      "outputs": []
    },
    {
      "cell_type": "code",
      "metadata": {
        "id": "Rq_KnQ3nwYfB",
        "colab_type": "code",
        "colab": {}
      },
      "source": [
        "# usando el filtrado tradicional debemos encerrar en paréntesis cada condición que queremos que cumpla nuestro filtro\n",
        "data[(data['nacionalidad'] == \"MEXICANA\") & (data.entidad_res == \"CIUDAD DE MÉXICO\")].head(2)"
      ],
      "execution_count": null,
      "outputs": []
    },
    {
      "cell_type": "markdown",
      "metadata": {
        "id": "DzNeaCoduF6l",
        "colab_type": "text"
      },
      "source": [
        "###Resúmenes"
      ]
    },
    {
      "cell_type": "code",
      "metadata": {
        "id": "CJ3L22nex0b0",
        "colab_type": "code",
        "colab": {}
      },
      "source": [
        "# una columna, una métrica\n",
        "data.groupby('sexo').edad.mean()"
      ],
      "execution_count": null,
      "outputs": []
    },
    {
      "cell_type": "code",
      "metadata": {
        "id": "f1GZF_ycuIIl",
        "colab_type": "code",
        "colab": {}
      },
      "source": [
        "# una columna, varias métricas\n",
        "data.groupby('sexo').agg({'edad': ['min','mean','max']})"
      ],
      "execution_count": null,
      "outputs": []
    },
    {
      "cell_type": "code",
      "metadata": {
        "id": "GDzohGmjycNN",
        "colab_type": "code",
        "colab": {}
      },
      "source": [
        "# varias columnas, una métrica\n",
        "data.groupby('sexo').agg({'edad': 'mean', 'mes_ingreso': 'mean', 'mes_def': 'mean'})"
      ],
      "execution_count": null,
      "outputs": []
    },
    {
      "cell_type": "code",
      "metadata": {
        "id": "063vXVf_yyNH",
        "colab_type": "code",
        "colab": {}
      },
      "source": [
        "# varias columnas, varias métricas\n",
        "data.groupby('sexo').agg({'edad': ['min','mean','max'], 'mes_ingreso': ['min','mean','max'], 'mes_def': ['min','mean','max']})"
      ],
      "execution_count": null,
      "outputs": []
    },
    {
      "cell_type": "markdown",
      "metadata": {
        "id": "Z3l3OUMWtuAU",
        "colab_type": "text"
      },
      "source": [
        "###Descripción por Tipo"
      ]
    },
    {
      "cell_type": "code",
      "metadata": {
        "id": "54OelJ9_Y38I",
        "colab_type": "code",
        "colab": {}
      },
      "source": [
        "# Filtrar por tipos generales (categóricas y numéricas)\n",
        "numerical = data.select_dtypes(include='number')\n",
        "categorical = data.select_dtypes(include=['object', 'bool', 'category', 'datetime64[ns]'])"
      ],
      "execution_count": 42,
      "outputs": []
    },
    {
      "cell_type": "code",
      "metadata": {
        "id": "eGV5p-q9m8OL",
        "colab_type": "code",
        "colab": {}
      },
      "source": [
        "numerical.head()"
      ],
      "execution_count": null,
      "outputs": []
    },
    {
      "cell_type": "code",
      "metadata": {
        "id": "xslYgCyDm_mU",
        "colab_type": "code",
        "colab": {}
      },
      "source": [
        "categorical.head()"
      ],
      "execution_count": null,
      "outputs": []
    },
    {
      "cell_type": "code",
      "metadata": {
        "id": "5I-RmBVoHBCw",
        "colab_type": "code",
        "colab": {}
      },
      "source": [
        "# para conocer todos los tipo de datos\n",
        "?data.select_dtypes"
      ],
      "execution_count": 45,
      "outputs": []
    },
    {
      "cell_type": "markdown",
      "metadata": {
        "id": "mvzBoAj5qdOW",
        "colab_type": "text"
      },
      "source": [
        "####Categóricas"
      ]
    },
    {
      "cell_type": "code",
      "metadata": {
        "id": "gpaBVNynm-1-",
        "colab_type": "code",
        "colab": {}
      },
      "source": [
        "# Cardinalidad - Valores únicos por columna\n",
        "for col in categorical.columns:\n",
        "  print('Valores únicos en \"{}\": {}'.format(col,categorical[col].nunique()))"
      ],
      "execution_count": null,
      "outputs": []
    },
    {
      "cell_type": "code",
      "metadata": {
        "id": "JK8aFUfWqsPJ",
        "colab_type": "code",
        "colab": {}
      },
      "source": [
        "# Unicidad - proporción de valores únicos por columna\n",
        "total = data.shape[0]\n",
        "for col in categorical.columns:\n",
        "  print('Porcentaje de valores únicos en \"{}\": {}%'.format(col,round(categorical[col].nunique()/total*100,2)))"
      ],
      "execution_count": null,
      "outputs": []
    },
    {
      "cell_type": "code",
      "metadata": {
        "id": "A2G1_Y5nq0R5",
        "colab_type": "code",
        "colab": {}
      },
      "source": [
        "# Moda - valor que más se repite en cada columna excepto los indicadores únicos\n",
        "for col in categorical.drop(columns='id_registro').columns:\n",
        "  print('Valor más popular en \"{}\": {}'.format(col, statistics.mode(categorical[col])))"
      ],
      "execution_count": null,
      "outputs": []
    },
    {
      "cell_type": "markdown",
      "metadata": {
        "id": "Db1AtzEIqj9Z",
        "colab_type": "text"
      },
      "source": [
        "####Numéricas"
      ]
    },
    {
      "cell_type": "code",
      "metadata": {
        "id": "euuwiemhrBh7",
        "colab_type": "code",
        "colab": {}
      },
      "source": [
        "numerical.describe()"
      ],
      "execution_count": null,
      "outputs": []
    },
    {
      "cell_type": "markdown",
      "metadata": {
        "id": "F4Z87n4dEBln",
        "colab_type": "text"
      },
      "source": [
        "##Análisis Exploratorio\n",
        "\n",
        "En esta sección responderemos algunas preguntas sobre el set de datos usando las herramientas que hemos visto hasta ahora"
      ]
    },
    {
      "cell_type": "code",
      "metadata": {
        "id": "-Adpvf7aSXnR",
        "colab_type": "code",
        "colab": {
          "base_uri": "https://localhost:8080/",
          "height": 86
        },
        "outputId": "afc42696-ea6e-4b2e-9664-d5bcc37c5373"
      },
      "source": [
        "# ¿Cuántas pruebas por origen se realizan?\n",
        "data.groupby('origen').id_registro.count()"
      ],
      "execution_count": null,
      "outputs": [
        {
          "output_type": "execute_result",
          "data": {
            "text/plain": [
              "origen\n",
              "FUERA DE USMER    928460\n",
              "USMER             464573\n",
              "Name: id_registro, dtype: int64"
            ]
          },
          "metadata": {
            "tags": []
          },
          "execution_count": 45
        }
      ]
    },
    {
      "cell_type": "code",
      "metadata": {
        "id": "KNMflRmDSlar",
        "colab_type": "code",
        "colab": {
          "base_uri": "https://localhost:8080/",
          "height": 69
        },
        "outputId": "bf77e068-1a25-438f-c046-2dc344210094"
      },
      "source": [
        "data.origen.value_counts()"
      ],
      "execution_count": null,
      "outputs": [
        {
          "output_type": "execute_result",
          "data": {
            "text/plain": [
              "FUERA DE USMER    928460\n",
              "USMER             464573\n",
              "Name: origen, dtype: int64"
            ]
          },
          "metadata": {
            "tags": []
          },
          "execution_count": 46
        }
      ]
    },
    {
      "cell_type": "code",
      "metadata": {
        "id": "Q_i8mLloSXw8",
        "colab_type": "code",
        "colab": {
          "base_uri": "https://localhost:8080/",
          "height": 276
        },
        "outputId": "d4dcc278-9fc8-4f51-f8fa-0a8d8a0fe9ca"
      },
      "source": [
        "# ¿Cuántas pruebas por sector se realizan?\n",
        "data.sector.value_counts()"
      ],
      "execution_count": null,
      "outputs": [
        {
          "output_type": "execute_result",
          "data": {
            "text/plain": [
              "SSA                863605\n",
              "IMSS               359287\n",
              "ISSSTE              52959\n",
              "PRIVADA             52236\n",
              "ESTATAL             25729\n",
              "PEMEX               12225\n",
              "IMSS-BIENESTAR       9690\n",
              "SEMAR                7387\n",
              "SEDENA               6890\n",
              "MUNICIPAL            1128\n",
              "UNIVERSITARIO         897\n",
              "DIF                   786\n",
              "CRUZ ROJA             206\n",
              "NO ESPECIFICADO         8\n",
              "Name: sector, dtype: int64"
            ]
          },
          "metadata": {
            "tags": []
          },
          "execution_count": 47
        }
      ]
    },
    {
      "cell_type": "code",
      "metadata": {
        "id": "7p14tyEYEEEp",
        "colab_type": "code",
        "colab": {
          "base_uri": "https://localhost:8080/",
          "height": 69
        },
        "outputId": "e5086989-3fbe-442a-d306-e70e145a6b1f"
      },
      "source": [
        "# ¿Cuántos pacientes por sexo tenemos?\n",
        "data.sexo.value_counts()"
      ],
      "execution_count": null,
      "outputs": [
        {
          "output_type": "execute_result",
          "data": {
            "text/plain": [
              "MUJER     705922\n",
              "HOMBRE    687111\n",
              "Name: sexo, dtype: int64"
            ]
          },
          "metadata": {
            "tags": []
          },
          "execution_count": 48
        }
      ]
    },
    {
      "cell_type": "code",
      "metadata": {
        "id": "lSPRZDpCJf-k",
        "colab_type": "code",
        "colab": {
          "base_uri": "https://localhost:8080/",
          "height": 69
        },
        "outputId": "93aea31b-4298-4d28-ab1f-1f2776117714"
      },
      "source": [
        "# ¿Cuál es la proporción de los pacientes por sexo?\n",
        "data.sexo.value_counts(normalize=True)"
      ],
      "execution_count": null,
      "outputs": [
        {
          "output_type": "execute_result",
          "data": {
            "text/plain": [
              "MUJER     0.506752\n",
              "HOMBRE    0.493248\n",
              "Name: sexo, dtype: float64"
            ]
          },
          "metadata": {
            "tags": []
          },
          "execution_count": 49
        }
      ]
    },
    {
      "cell_type": "code",
      "metadata": {
        "id": "Z4OhA4Y2Jmon",
        "colab_type": "code",
        "colab": {
          "base_uri": "https://localhost:8080/",
          "height": 86
        },
        "outputId": "52036641-5ef0-4b94-ac6f-865864bf2cef"
      },
      "source": [
        "# ¿Cuál es la proporción de resultados de las pruebas?\n",
        "data.resultado.value_counts(normalize=True)"
      ],
      "execution_count": null,
      "outputs": [
        {
          "output_type": "execute_result",
          "data": {
            "text/plain": [
              "No positivo SARS-CoV-2    0.496987\n",
              "Positivo SARS-CoV-2       0.442842\n",
              "Resultado pendiente       0.060171\n",
              "Name: resultado, dtype: float64"
            ]
          },
          "metadata": {
            "tags": []
          },
          "execution_count": 50
        }
      ]
    },
    {
      "cell_type": "code",
      "metadata": {
        "id": "vRp0bVPKHSRG",
        "colab_type": "code",
        "colab": {
          "base_uri": "https://localhost:8080/",
          "height": 35
        },
        "outputId": "74cfe8a5-8c5d-4e46-daaf-597515921f40"
      },
      "source": [
        "# ¿Cuántas pruebas positivas tenemos en el set?\n",
        "data[data.resultado == 'Positivo SARS-CoV-2'].id_registro.count()"
      ],
      "execution_count": null,
      "outputs": [
        {
          "output_type": "execute_result",
          "data": {
            "text/plain": [
              "616894"
            ]
          },
          "metadata": {
            "tags": []
          },
          "execution_count": 51
        }
      ]
    },
    {
      "cell_type": "code",
      "metadata": {
        "id": "BPeZ1LFgOiF6",
        "colab_type": "code",
        "colab": {
          "base_uri": "https://localhost:8080/",
          "height": 190
        },
        "outputId": "b1893a7a-f2e4-4c3e-f835-097eb212f431"
      },
      "source": [
        "# ¿Cuántos casos positivos tenemos por mes?\n",
        "data[data.resultado == 'Positivo SARS-CoV-2'].mes_ingreso.value_counts().sort_index()"
      ],
      "execution_count": null,
      "outputs": [
        {
          "output_type": "execute_result",
          "data": {
            "text/plain": [
              "1         2\n",
              "2         8\n",
              "3      2530\n",
              "4     26554\n",
              "5     86466\n",
              "6    152756\n",
              "7    198622\n",
              "8    148077\n",
              "9      1879\n",
              "Name: mes_ingreso, dtype: int64"
            ]
          },
          "metadata": {
            "tags": []
          },
          "execution_count": 52
        }
      ]
    },
    {
      "cell_type": "code",
      "metadata": {
        "id": "tIOsS5rlE_lO",
        "colab_type": "code",
        "colab": {
          "base_uri": "https://localhost:8080/",
          "height": 155
        },
        "outputId": "035461aa-1760-44a4-dd31-bafde122b4ee"
      },
      "source": [
        "# ¿Cuál es el resultado de las pruebas por sexo?\n",
        "data.groupby(['sexo','resultado'])['id_registro'].count()"
      ],
      "execution_count": null,
      "outputs": [
        {
          "output_type": "execute_result",
          "data": {
            "text/plain": [
              "sexo    resultado             \n",
              "HOMBRE  No positivo SARS-CoV-2    322529\n",
              "        Positivo SARS-CoV-2       323257\n",
              "        Resultado pendiente        41325\n",
              "MUJER   No positivo SARS-CoV-2    369790\n",
              "        Positivo SARS-CoV-2       293637\n",
              "        Resultado pendiente        42495\n",
              "Name: id_registro, dtype: int64"
            ]
          },
          "metadata": {
            "tags": []
          },
          "execution_count": 53
        }
      ]
    },
    {
      "cell_type": "code",
      "metadata": {
        "id": "Mw5CorwDK0PB",
        "colab_type": "code",
        "colab": {
          "base_uri": "https://localhost:8080/",
          "height": 155
        },
        "outputId": "7f42f201-b90c-4a40-94d2-5025f382596d"
      },
      "source": [
        "data.groupby('sexo').resultado.value_counts()"
      ],
      "execution_count": null,
      "outputs": [
        {
          "output_type": "execute_result",
          "data": {
            "text/plain": [
              "sexo    resultado             \n",
              "HOMBRE  Positivo SARS-CoV-2       323257\n",
              "        No positivo SARS-CoV-2    322529\n",
              "        Resultado pendiente        41325\n",
              "MUJER   No positivo SARS-CoV-2    369790\n",
              "        Positivo SARS-CoV-2       293637\n",
              "        Resultado pendiente        42495\n",
              "Name: resultado, dtype: int64"
            ]
          },
          "metadata": {
            "tags": []
          },
          "execution_count": 54
        }
      ]
    },
    {
      "cell_type": "code",
      "metadata": {
        "id": "sJJgtaB1G6yh",
        "colab_type": "code",
        "colab": {
          "base_uri": "https://localhost:8080/",
          "height": 155
        },
        "outputId": "47cc1ea9-f5a6-4541-80d6-ad1e9e644d0a"
      },
      "source": [
        "# ¿Qué proporción de resultados de pruebas tenemos por sexo?\n",
        "data.groupby('sexo').resultado.value_counts(normalize=True)"
      ],
      "execution_count": null,
      "outputs": [
        {
          "output_type": "execute_result",
          "data": {
            "text/plain": [
              "sexo    resultado             \n",
              "HOMBRE  Positivo SARS-CoV-2       0.470458\n",
              "        No positivo SARS-CoV-2    0.469399\n",
              "        Resultado pendiente       0.060143\n",
              "MUJER   No positivo SARS-CoV-2    0.523840\n",
              "        Positivo SARS-CoV-2       0.415962\n",
              "        Resultado pendiente       0.060198\n",
              "Name: resultado, dtype: float64"
            ]
          },
          "metadata": {
            "tags": []
          },
          "execution_count": 55
        }
      ]
    },
    {
      "cell_type": "code",
      "metadata": {
        "id": "-ZCLqAkWHDeQ",
        "colab_type": "code",
        "colab": {
          "base_uri": "https://localhost:8080/",
          "height": 138
        },
        "outputId": "1f64f621-63c3-4064-a32f-e3ac950196d3"
      },
      "source": [
        "# ¿Cuál es la edad de los pacientes por sexo?\n",
        "data.groupby('sexo').edad.describe()"
      ],
      "execution_count": null,
      "outputs": [
        {
          "output_type": "execute_result",
          "data": {
            "text/html": [
              "<div>\n",
              "<style scoped>\n",
              "    .dataframe tbody tr th:only-of-type {\n",
              "        vertical-align: middle;\n",
              "    }\n",
              "\n",
              "    .dataframe tbody tr th {\n",
              "        vertical-align: top;\n",
              "    }\n",
              "\n",
              "    .dataframe thead th {\n",
              "        text-align: right;\n",
              "    }\n",
              "</style>\n",
              "<table border=\"1\" class=\"dataframe\">\n",
              "  <thead>\n",
              "    <tr style=\"text-align: right;\">\n",
              "      <th></th>\n",
              "      <th>count</th>\n",
              "      <th>mean</th>\n",
              "      <th>std</th>\n",
              "      <th>min</th>\n",
              "      <th>25%</th>\n",
              "      <th>50%</th>\n",
              "      <th>75%</th>\n",
              "      <th>max</th>\n",
              "    </tr>\n",
              "    <tr>\n",
              "      <th>sexo</th>\n",
              "      <th></th>\n",
              "      <th></th>\n",
              "      <th></th>\n",
              "      <th></th>\n",
              "      <th></th>\n",
              "      <th></th>\n",
              "      <th></th>\n",
              "      <th></th>\n",
              "    </tr>\n",
              "  </thead>\n",
              "  <tbody>\n",
              "    <tr>\n",
              "      <th>HOMBRE</th>\n",
              "      <td>687111.0</td>\n",
              "      <td>42.812564</td>\n",
              "      <td>17.091827</td>\n",
              "      <td>0.0</td>\n",
              "      <td>30.0</td>\n",
              "      <td>41.0</td>\n",
              "      <td>54.0</td>\n",
              "      <td>120.0</td>\n",
              "    </tr>\n",
              "    <tr>\n",
              "      <th>MUJER</th>\n",
              "      <td>705922.0</td>\n",
              "      <td>41.735627</td>\n",
              "      <td>16.453715</td>\n",
              "      <td>0.0</td>\n",
              "      <td>30.0</td>\n",
              "      <td>40.0</td>\n",
              "      <td>52.0</td>\n",
              "      <td>120.0</td>\n",
              "    </tr>\n",
              "  </tbody>\n",
              "</table>\n",
              "</div>"
            ],
            "text/plain": [
              "           count       mean        std  min   25%   50%   75%    max\n",
              "sexo                                                                \n",
              "HOMBRE  687111.0  42.812564  17.091827  0.0  30.0  41.0  54.0  120.0\n",
              "MUJER   705922.0  41.735627  16.453715  0.0  30.0  40.0  52.0  120.0"
            ]
          },
          "metadata": {
            "tags": []
          },
          "execution_count": 56
        }
      ]
    },
    {
      "cell_type": "code",
      "metadata": {
        "id": "5SojvW49UrlU",
        "colab_type": "code",
        "colab": {
          "base_uri": "https://localhost:8080/",
          "height": 168
        },
        "outputId": "f8f529f8-20c1-41d4-e353-cedb3a090fa2"
      },
      "source": [
        "def q25(x):\n",
        "  return x.quantile(0.25)\n",
        "\n",
        "def q75(x):\n",
        "  return x.quantile(0.75)\n",
        "\n",
        "data.groupby('sexo').agg({'edad': ['min', q25, 'median', q75, 'max']})"
      ],
      "execution_count": null,
      "outputs": [
        {
          "output_type": "execute_result",
          "data": {
            "text/html": [
              "<div>\n",
              "<style scoped>\n",
              "    .dataframe tbody tr th:only-of-type {\n",
              "        vertical-align: middle;\n",
              "    }\n",
              "\n",
              "    .dataframe tbody tr th {\n",
              "        vertical-align: top;\n",
              "    }\n",
              "\n",
              "    .dataframe thead tr th {\n",
              "        text-align: left;\n",
              "    }\n",
              "\n",
              "    .dataframe thead tr:last-of-type th {\n",
              "        text-align: right;\n",
              "    }\n",
              "</style>\n",
              "<table border=\"1\" class=\"dataframe\">\n",
              "  <thead>\n",
              "    <tr>\n",
              "      <th></th>\n",
              "      <th colspan=\"5\" halign=\"left\">edad</th>\n",
              "    </tr>\n",
              "    <tr>\n",
              "      <th></th>\n",
              "      <th>min</th>\n",
              "      <th>q25</th>\n",
              "      <th>median</th>\n",
              "      <th>q75</th>\n",
              "      <th>max</th>\n",
              "    </tr>\n",
              "    <tr>\n",
              "      <th>sexo</th>\n",
              "      <th></th>\n",
              "      <th></th>\n",
              "      <th></th>\n",
              "      <th></th>\n",
              "      <th></th>\n",
              "    </tr>\n",
              "  </thead>\n",
              "  <tbody>\n",
              "    <tr>\n",
              "      <th>HOMBRE</th>\n",
              "      <td>0</td>\n",
              "      <td>30</td>\n",
              "      <td>41</td>\n",
              "      <td>54</td>\n",
              "      <td>120</td>\n",
              "    </tr>\n",
              "    <tr>\n",
              "      <th>MUJER</th>\n",
              "      <td>0</td>\n",
              "      <td>30</td>\n",
              "      <td>40</td>\n",
              "      <td>52</td>\n",
              "      <td>120</td>\n",
              "    </tr>\n",
              "  </tbody>\n",
              "</table>\n",
              "</div>"
            ],
            "text/plain": [
              "       edad                    \n",
              "        min q25 median q75  max\n",
              "sexo                           \n",
              "HOMBRE    0  30     41  54  120\n",
              "MUJER     0  30     40  52  120"
            ]
          },
          "metadata": {
            "tags": []
          },
          "execution_count": 57
        }
      ]
    },
    {
      "cell_type": "code",
      "metadata": {
        "id": "Mt0Im5GWNl3u",
        "colab_type": "code",
        "colab": {
          "base_uri": "https://localhost:8080/",
          "height": 198
        },
        "outputId": "44cfa6e5-1f4a-4326-bd48-660a9f31a065"
      },
      "source": [
        "# ¿Cuál es la edad de los pacientes dependiendo de si son intubados o no?\n",
        "data.groupby('intubado').edad.describe()"
      ],
      "execution_count": null,
      "outputs": [
        {
          "output_type": "execute_result",
          "data": {
            "text/html": [
              "<div>\n",
              "<style scoped>\n",
              "    .dataframe tbody tr th:only-of-type {\n",
              "        vertical-align: middle;\n",
              "    }\n",
              "\n",
              "    .dataframe tbody tr th {\n",
              "        vertical-align: top;\n",
              "    }\n",
              "\n",
              "    .dataframe thead th {\n",
              "        text-align: right;\n",
              "    }\n",
              "</style>\n",
              "<table border=\"1\" class=\"dataframe\">\n",
              "  <thead>\n",
              "    <tr style=\"text-align: right;\">\n",
              "      <th></th>\n",
              "      <th>count</th>\n",
              "      <th>mean</th>\n",
              "      <th>std</th>\n",
              "      <th>min</th>\n",
              "      <th>25%</th>\n",
              "      <th>50%</th>\n",
              "      <th>75%</th>\n",
              "      <th>max</th>\n",
              "    </tr>\n",
              "    <tr>\n",
              "      <th>intubado</th>\n",
              "      <th></th>\n",
              "      <th></th>\n",
              "      <th></th>\n",
              "      <th></th>\n",
              "      <th></th>\n",
              "      <th></th>\n",
              "      <th></th>\n",
              "      <th></th>\n",
              "    </tr>\n",
              "  </thead>\n",
              "  <tbody>\n",
              "    <tr>\n",
              "      <th>NO</th>\n",
              "      <td>219583.0</td>\n",
              "      <td>53.630053</td>\n",
              "      <td>19.435595</td>\n",
              "      <td>0.0</td>\n",
              "      <td>42.0</td>\n",
              "      <td>55.0</td>\n",
              "      <td>67.0</td>\n",
              "      <td>120.0</td>\n",
              "    </tr>\n",
              "    <tr>\n",
              "      <th>NO APLICA</th>\n",
              "      <td>1144649.0</td>\n",
              "      <td>39.748604</td>\n",
              "      <td>15.020323</td>\n",
              "      <td>0.0</td>\n",
              "      <td>29.0</td>\n",
              "      <td>38.0</td>\n",
              "      <td>49.0</td>\n",
              "      <td>120.0</td>\n",
              "    </tr>\n",
              "    <tr>\n",
              "      <th>NO ESPECIFICADO</th>\n",
              "      <td>167.0</td>\n",
              "      <td>53.005988</td>\n",
              "      <td>18.042619</td>\n",
              "      <td>0.0</td>\n",
              "      <td>41.5</td>\n",
              "      <td>54.0</td>\n",
              "      <td>65.5</td>\n",
              "      <td>92.0</td>\n",
              "    </tr>\n",
              "    <tr>\n",
              "      <th>SI</th>\n",
              "      <td>28634.0</td>\n",
              "      <td>55.730286</td>\n",
              "      <td>18.850803</td>\n",
              "      <td>0.0</td>\n",
              "      <td>47.0</td>\n",
              "      <td>58.0</td>\n",
              "      <td>68.0</td>\n",
              "      <td>108.0</td>\n",
              "    </tr>\n",
              "  </tbody>\n",
              "</table>\n",
              "</div>"
            ],
            "text/plain": [
              "                     count       mean        std  min   25%   50%   75%    max\n",
              "intubado                                                                      \n",
              "NO                219583.0  53.630053  19.435595  0.0  42.0  55.0  67.0  120.0\n",
              "NO APLICA        1144649.0  39.748604  15.020323  0.0  29.0  38.0  49.0  120.0\n",
              "NO ESPECIFICADO      167.0  53.005988  18.042619  0.0  41.5  54.0  65.5   92.0\n",
              "SI                 28634.0  55.730286  18.850803  0.0  47.0  58.0  68.0  108.0"
            ]
          },
          "metadata": {
            "tags": []
          },
          "execution_count": 58
        }
      ]
    },
    {
      "cell_type": "code",
      "metadata": {
        "id": "zhboO4Aoa-3Q",
        "colab_type": "code",
        "colab": {
          "base_uri": "https://localhost:8080/",
          "height": 228
        },
        "outputId": "beb5eb4d-2681-40ed-831c-109fd62c5b38"
      },
      "source": [
        "data.groupby('intubado').agg({'edad': ['min', q25, 'median', q75, 'max']})"
      ],
      "execution_count": null,
      "outputs": [
        {
          "output_type": "execute_result",
          "data": {
            "text/html": [
              "<div>\n",
              "<style scoped>\n",
              "    .dataframe tbody tr th:only-of-type {\n",
              "        vertical-align: middle;\n",
              "    }\n",
              "\n",
              "    .dataframe tbody tr th {\n",
              "        vertical-align: top;\n",
              "    }\n",
              "\n",
              "    .dataframe thead tr th {\n",
              "        text-align: left;\n",
              "    }\n",
              "\n",
              "    .dataframe thead tr:last-of-type th {\n",
              "        text-align: right;\n",
              "    }\n",
              "</style>\n",
              "<table border=\"1\" class=\"dataframe\">\n",
              "  <thead>\n",
              "    <tr>\n",
              "      <th></th>\n",
              "      <th colspan=\"5\" halign=\"left\">edad</th>\n",
              "    </tr>\n",
              "    <tr>\n",
              "      <th></th>\n",
              "      <th>min</th>\n",
              "      <th>q25</th>\n",
              "      <th>median</th>\n",
              "      <th>q75</th>\n",
              "      <th>max</th>\n",
              "    </tr>\n",
              "    <tr>\n",
              "      <th>intubado</th>\n",
              "      <th></th>\n",
              "      <th></th>\n",
              "      <th></th>\n",
              "      <th></th>\n",
              "      <th></th>\n",
              "    </tr>\n",
              "  </thead>\n",
              "  <tbody>\n",
              "    <tr>\n",
              "      <th>NO</th>\n",
              "      <td>0</td>\n",
              "      <td>42.0</td>\n",
              "      <td>55</td>\n",
              "      <td>67.0</td>\n",
              "      <td>120</td>\n",
              "    </tr>\n",
              "    <tr>\n",
              "      <th>NO APLICA</th>\n",
              "      <td>0</td>\n",
              "      <td>29.0</td>\n",
              "      <td>38</td>\n",
              "      <td>49.0</td>\n",
              "      <td>120</td>\n",
              "    </tr>\n",
              "    <tr>\n",
              "      <th>NO ESPECIFICADO</th>\n",
              "      <td>0</td>\n",
              "      <td>41.5</td>\n",
              "      <td>54</td>\n",
              "      <td>65.5</td>\n",
              "      <td>92</td>\n",
              "    </tr>\n",
              "    <tr>\n",
              "      <th>SI</th>\n",
              "      <td>0</td>\n",
              "      <td>47.0</td>\n",
              "      <td>58</td>\n",
              "      <td>68.0</td>\n",
              "      <td>108</td>\n",
              "    </tr>\n",
              "  </tbody>\n",
              "</table>\n",
              "</div>"
            ],
            "text/plain": [
              "                edad                        \n",
              "                 min   q25 median   q75  max\n",
              "intubado                                    \n",
              "NO                 0  42.0     55  67.0  120\n",
              "NO APLICA          0  29.0     38  49.0  120\n",
              "NO ESPECIFICADO    0  41.5     54  65.5   92\n",
              "SI                 0  47.0     58  68.0  108"
            ]
          },
          "metadata": {
            "tags": []
          },
          "execution_count": 59
        }
      ]
    },
    {
      "cell_type": "code",
      "metadata": {
        "id": "Io-VgRntNy4z",
        "colab_type": "code",
        "colab": {
          "base_uri": "https://localhost:8080/",
          "height": 133
        },
        "outputId": "f8a5a96a-5be0-480e-8e36-f177ec4bd646"
      },
      "source": [
        "# ¿Cuál es la edad máxima y cuál es la mínima de los pacientes fallecidos?\n",
        "edad_def_max = data[data.defuncion].edad.max()\n",
        "data[data.defuncion & (data.edad == edad_def_max)]"
      ],
      "execution_count": null,
      "outputs": [
        {
          "output_type": "execute_result",
          "data": {
            "text/html": [
              "<div>\n",
              "<style scoped>\n",
              "    .dataframe tbody tr th:only-of-type {\n",
              "        vertical-align: middle;\n",
              "    }\n",
              "\n",
              "    .dataframe tbody tr th {\n",
              "        vertical-align: top;\n",
              "    }\n",
              "\n",
              "    .dataframe thead th {\n",
              "        text-align: right;\n",
              "    }\n",
              "</style>\n",
              "<table border=\"1\" class=\"dataframe\">\n",
              "  <thead>\n",
              "    <tr style=\"text-align: right;\">\n",
              "      <th></th>\n",
              "      <th>fecha_actualizacion</th>\n",
              "      <th>id_registro</th>\n",
              "      <th>fecha_ingreso</th>\n",
              "      <th>fecha_sintomas</th>\n",
              "      <th>fecha_def</th>\n",
              "      <th>edad</th>\n",
              "      <th>pais_nacionalidad</th>\n",
              "      <th>pais_origen</th>\n",
              "      <th>entidad_res</th>\n",
              "      <th>municipio_res</th>\n",
              "      <th>entidad_um</th>\n",
              "      <th>entidad_nac</th>\n",
              "      <th>intubado</th>\n",
              "      <th>neumonia</th>\n",
              "      <th>embarazo</th>\n",
              "      <th>habla_lengua_indig</th>\n",
              "      <th>diabetes</th>\n",
              "      <th>epoc</th>\n",
              "      <th>asma</th>\n",
              "      <th>inmusupr</th>\n",
              "      <th>hipertension</th>\n",
              "      <th>otra_com</th>\n",
              "      <th>cardiovascular</th>\n",
              "      <th>obesidad</th>\n",
              "      <th>renal_cronica</th>\n",
              "      <th>tabaquismo</th>\n",
              "      <th>otro_caso</th>\n",
              "      <th>migrante</th>\n",
              "      <th>uci</th>\n",
              "      <th>origen</th>\n",
              "      <th>sector</th>\n",
              "      <th>sexo</th>\n",
              "      <th>tipo_paciente</th>\n",
              "      <th>nacionalidad</th>\n",
              "      <th>resultado</th>\n",
              "      <th>defuncion</th>\n",
              "      <th>mes_def</th>\n",
              "      <th>año_def</th>\n",
              "      <th>mes_ingreso</th>\n",
              "      <th>año_ingreso</th>\n",
              "    </tr>\n",
              "  </thead>\n",
              "  <tbody>\n",
              "    <tr>\n",
              "      <th>551494</th>\n",
              "      <td>2020-09-03</td>\n",
              "      <td>1b7b20</td>\n",
              "      <td>2020-05-21</td>\n",
              "      <td>2020-05-20</td>\n",
              "      <td>2020-05-26</td>\n",
              "      <td>109</td>\n",
              "      <td>MÃ©xico</td>\n",
              "      <td>99</td>\n",
              "      <td>MICHOACÁN DE OCAMPO</td>\n",
              "      <td>APATZINGÁN</td>\n",
              "      <td>MICHOACÁN DE OCAMPO</td>\n",
              "      <td>MICHOACÁN DE OCAMPO</td>\n",
              "      <td>NO</td>\n",
              "      <td>SI</td>\n",
              "      <td>NO APLICA</td>\n",
              "      <td>NO</td>\n",
              "      <td>NO</td>\n",
              "      <td>NO</td>\n",
              "      <td>NO</td>\n",
              "      <td>SI</td>\n",
              "      <td>NO</td>\n",
              "      <td>NO</td>\n",
              "      <td>NO</td>\n",
              "      <td>NO</td>\n",
              "      <td>SI</td>\n",
              "      <td>NO</td>\n",
              "      <td>NO</td>\n",
              "      <td>NO ESPECIFICADO</td>\n",
              "      <td>NO</td>\n",
              "      <td>FUERA DE USMER</td>\n",
              "      <td>ISSSTE</td>\n",
              "      <td>HOMBRE</td>\n",
              "      <td>HOSPITALIZADO</td>\n",
              "      <td>MEXICANA</td>\n",
              "      <td>No positivo SARS-CoV-2</td>\n",
              "      <td>True</td>\n",
              "      <td>5.0</td>\n",
              "      <td>2020.0</td>\n",
              "      <td>5</td>\n",
              "      <td>2020</td>\n",
              "    </tr>\n",
              "  </tbody>\n",
              "</table>\n",
              "</div>"
            ],
            "text/plain": [
              "       fecha_actualizacion id_registro  ... mes_ingreso año_ingreso\n",
              "551494          2020-09-03      1b7b20  ...           5        2020\n",
              "\n",
              "[1 rows x 40 columns]"
            ]
          },
          "metadata": {
            "tags": []
          },
          "execution_count": 60
        }
      ]
    },
    {
      "cell_type": "code",
      "metadata": {
        "id": "SK5dDYkeblJm",
        "colab_type": "code",
        "colab": {
          "base_uri": "https://localhost:8080/",
          "height": 721
        },
        "outputId": "2055e6f7-f4f4-4d71-fba0-90970916d0f6"
      },
      "source": [
        "edad_def_min = data[data.defuncion].edad.min()\n",
        "data[data.defuncion & (data.edad == edad_def_min)]"
      ],
      "execution_count": null,
      "outputs": [
        {
          "output_type": "execute_result",
          "data": {
            "text/html": [
              "<div>\n",
              "<style scoped>\n",
              "    .dataframe tbody tr th:only-of-type {\n",
              "        vertical-align: middle;\n",
              "    }\n",
              "\n",
              "    .dataframe tbody tr th {\n",
              "        vertical-align: top;\n",
              "    }\n",
              "\n",
              "    .dataframe thead th {\n",
              "        text-align: right;\n",
              "    }\n",
              "</style>\n",
              "<table border=\"1\" class=\"dataframe\">\n",
              "  <thead>\n",
              "    <tr style=\"text-align: right;\">\n",
              "      <th></th>\n",
              "      <th>fecha_actualizacion</th>\n",
              "      <th>id_registro</th>\n",
              "      <th>fecha_ingreso</th>\n",
              "      <th>fecha_sintomas</th>\n",
              "      <th>fecha_def</th>\n",
              "      <th>edad</th>\n",
              "      <th>pais_nacionalidad</th>\n",
              "      <th>pais_origen</th>\n",
              "      <th>entidad_res</th>\n",
              "      <th>municipio_res</th>\n",
              "      <th>entidad_um</th>\n",
              "      <th>entidad_nac</th>\n",
              "      <th>intubado</th>\n",
              "      <th>neumonia</th>\n",
              "      <th>embarazo</th>\n",
              "      <th>habla_lengua_indig</th>\n",
              "      <th>diabetes</th>\n",
              "      <th>epoc</th>\n",
              "      <th>asma</th>\n",
              "      <th>inmusupr</th>\n",
              "      <th>hipertension</th>\n",
              "      <th>otra_com</th>\n",
              "      <th>cardiovascular</th>\n",
              "      <th>obesidad</th>\n",
              "      <th>renal_cronica</th>\n",
              "      <th>tabaquismo</th>\n",
              "      <th>otro_caso</th>\n",
              "      <th>migrante</th>\n",
              "      <th>uci</th>\n",
              "      <th>origen</th>\n",
              "      <th>sector</th>\n",
              "      <th>sexo</th>\n",
              "      <th>tipo_paciente</th>\n",
              "      <th>nacionalidad</th>\n",
              "      <th>resultado</th>\n",
              "      <th>defuncion</th>\n",
              "      <th>mes_def</th>\n",
              "      <th>año_def</th>\n",
              "      <th>mes_ingreso</th>\n",
              "      <th>año_ingreso</th>\n",
              "    </tr>\n",
              "  </thead>\n",
              "  <tbody>\n",
              "    <tr>\n",
              "      <th>8162</th>\n",
              "      <td>2020-09-03</td>\n",
              "      <td>15f637</td>\n",
              "      <td>2020-06-25</td>\n",
              "      <td>2020-06-20</td>\n",
              "      <td>2020-07-01</td>\n",
              "      <td>0</td>\n",
              "      <td>MÃ©xico</td>\n",
              "      <td>99</td>\n",
              "      <td>GUANAJUATO</td>\n",
              "      <td>LEÓN</td>\n",
              "      <td>GUANAJUATO</td>\n",
              "      <td>GUANAJUATO</td>\n",
              "      <td>NO</td>\n",
              "      <td>NO</td>\n",
              "      <td>NO APLICA</td>\n",
              "      <td>NO</td>\n",
              "      <td>NO</td>\n",
              "      <td>NO</td>\n",
              "      <td>NO</td>\n",
              "      <td>NO</td>\n",
              "      <td>SI</td>\n",
              "      <td>NO</td>\n",
              "      <td>NO</td>\n",
              "      <td>NO</td>\n",
              "      <td>NO</td>\n",
              "      <td>NO</td>\n",
              "      <td>NO</td>\n",
              "      <td>NO ESPECIFICADO</td>\n",
              "      <td>NO</td>\n",
              "      <td>FUERA DE USMER</td>\n",
              "      <td>SSA</td>\n",
              "      <td>HOMBRE</td>\n",
              "      <td>HOSPITALIZADO</td>\n",
              "      <td>MEXICANA</td>\n",
              "      <td>Positivo SARS-CoV-2</td>\n",
              "      <td>True</td>\n",
              "      <td>7.0</td>\n",
              "      <td>2020.0</td>\n",
              "      <td>6</td>\n",
              "      <td>2020</td>\n",
              "    </tr>\n",
              "    <tr>\n",
              "      <th>16059</th>\n",
              "      <td>2020-09-03</td>\n",
              "      <td>083c34</td>\n",
              "      <td>2020-05-25</td>\n",
              "      <td>2020-05-25</td>\n",
              "      <td>2020-06-01</td>\n",
              "      <td>0</td>\n",
              "      <td>MÃ©xico</td>\n",
              "      <td>99</td>\n",
              "      <td>MÉXICO</td>\n",
              "      <td>CHIMALHUACÁN</td>\n",
              "      <td>MÉXICO</td>\n",
              "      <td>MÉXICO</td>\n",
              "      <td>SI</td>\n",
              "      <td>SI</td>\n",
              "      <td>NO APLICA</td>\n",
              "      <td>NO</td>\n",
              "      <td>NO</td>\n",
              "      <td>NO</td>\n",
              "      <td>NO</td>\n",
              "      <td>NO</td>\n",
              "      <td>NO</td>\n",
              "      <td>NO</td>\n",
              "      <td>NO</td>\n",
              "      <td>NO</td>\n",
              "      <td>NO</td>\n",
              "      <td>NO</td>\n",
              "      <td>SI</td>\n",
              "      <td>NO ESPECIFICADO</td>\n",
              "      <td>SI</td>\n",
              "      <td>USMER</td>\n",
              "      <td>IMSS</td>\n",
              "      <td>HOMBRE</td>\n",
              "      <td>HOSPITALIZADO</td>\n",
              "      <td>MEXICANA</td>\n",
              "      <td>Positivo SARS-CoV-2</td>\n",
              "      <td>True</td>\n",
              "      <td>6.0</td>\n",
              "      <td>2020.0</td>\n",
              "      <td>5</td>\n",
              "      <td>2020</td>\n",
              "    </tr>\n",
              "    <tr>\n",
              "      <th>23799</th>\n",
              "      <td>2020-09-03</td>\n",
              "      <td>02f8e2</td>\n",
              "      <td>2020-05-08</td>\n",
              "      <td>2020-05-01</td>\n",
              "      <td>2020-05-10</td>\n",
              "      <td>0</td>\n",
              "      <td>MÃ©xico</td>\n",
              "      <td>99</td>\n",
              "      <td>BAJA CALIFORNIA</td>\n",
              "      <td>TIJUANA</td>\n",
              "      <td>BAJA CALIFORNIA</td>\n",
              "      <td>BAJA CALIFORNIA</td>\n",
              "      <td>SI</td>\n",
              "      <td>SI</td>\n",
              "      <td>NO APLICA</td>\n",
              "      <td>NO</td>\n",
              "      <td>NO</td>\n",
              "      <td>NO</td>\n",
              "      <td>NO</td>\n",
              "      <td>NO</td>\n",
              "      <td>NO</td>\n",
              "      <td>NO</td>\n",
              "      <td>NO</td>\n",
              "      <td>NO</td>\n",
              "      <td>NO</td>\n",
              "      <td>NO</td>\n",
              "      <td>NO</td>\n",
              "      <td>NO ESPECIFICADO</td>\n",
              "      <td>NO</td>\n",
              "      <td>USMER</td>\n",
              "      <td>SSA</td>\n",
              "      <td>HOMBRE</td>\n",
              "      <td>HOSPITALIZADO</td>\n",
              "      <td>MEXICANA</td>\n",
              "      <td>Positivo SARS-CoV-2</td>\n",
              "      <td>True</td>\n",
              "      <td>5.0</td>\n",
              "      <td>2020.0</td>\n",
              "      <td>5</td>\n",
              "      <td>2020</td>\n",
              "    </tr>\n",
              "    <tr>\n",
              "      <th>46287</th>\n",
              "      <td>2020-09-03</td>\n",
              "      <td>1cc0ea</td>\n",
              "      <td>2020-04-24</td>\n",
              "      <td>2020-04-21</td>\n",
              "      <td>2020-04-29</td>\n",
              "      <td>0</td>\n",
              "      <td>MÃ©xico</td>\n",
              "      <td>99</td>\n",
              "      <td>MÉXICO</td>\n",
              "      <td>ECATEPEC DE MORELOS</td>\n",
              "      <td>MÉXICO</td>\n",
              "      <td>MÉXICO</td>\n",
              "      <td>NO</td>\n",
              "      <td>SI</td>\n",
              "      <td>NO</td>\n",
              "      <td>NO</td>\n",
              "      <td>SI</td>\n",
              "      <td>NO</td>\n",
              "      <td>NO</td>\n",
              "      <td>NO</td>\n",
              "      <td>SI</td>\n",
              "      <td>NO</td>\n",
              "      <td>NO</td>\n",
              "      <td>NO</td>\n",
              "      <td>NO</td>\n",
              "      <td>NO</td>\n",
              "      <td>NO ESPECIFICADO</td>\n",
              "      <td>NO ESPECIFICADO</td>\n",
              "      <td>NO</td>\n",
              "      <td>FUERA DE USMER</td>\n",
              "      <td>SSA</td>\n",
              "      <td>MUJER</td>\n",
              "      <td>HOSPITALIZADO</td>\n",
              "      <td>MEXICANA</td>\n",
              "      <td>Positivo SARS-CoV-2</td>\n",
              "      <td>True</td>\n",
              "      <td>4.0</td>\n",
              "      <td>2020.0</td>\n",
              "      <td>4</td>\n",
              "      <td>2020</td>\n",
              "    </tr>\n",
              "    <tr>\n",
              "      <th>47645</th>\n",
              "      <td>2020-09-03</td>\n",
              "      <td>014b5d</td>\n",
              "      <td>2020-05-18</td>\n",
              "      <td>2020-05-17</td>\n",
              "      <td>2020-05-18</td>\n",
              "      <td>0</td>\n",
              "      <td>MÃ©xico</td>\n",
              "      <td>99</td>\n",
              "      <td>BAJA CALIFORNIA</td>\n",
              "      <td>TIJUANA</td>\n",
              "      <td>BAJA CALIFORNIA</td>\n",
              "      <td>BAJA CALIFORNIA</td>\n",
              "      <td>SI</td>\n",
              "      <td>SI</td>\n",
              "      <td>NO APLICA</td>\n",
              "      <td>NO</td>\n",
              "      <td>NO</td>\n",
              "      <td>NO</td>\n",
              "      <td>NO</td>\n",
              "      <td>NO</td>\n",
              "      <td>NO</td>\n",
              "      <td>NO</td>\n",
              "      <td>NO</td>\n",
              "      <td>NO</td>\n",
              "      <td>NO</td>\n",
              "      <td>NO</td>\n",
              "      <td>NO</td>\n",
              "      <td>NO ESPECIFICADO</td>\n",
              "      <td>NO</td>\n",
              "      <td>FUERA DE USMER</td>\n",
              "      <td>ISSSTE</td>\n",
              "      <td>HOMBRE</td>\n",
              "      <td>HOSPITALIZADO</td>\n",
              "      <td>MEXICANA</td>\n",
              "      <td>Positivo SARS-CoV-2</td>\n",
              "      <td>True</td>\n",
              "      <td>5.0</td>\n",
              "      <td>2020.0</td>\n",
              "      <td>5</td>\n",
              "      <td>2020</td>\n",
              "    </tr>\n",
              "    <tr>\n",
              "      <th>...</th>\n",
              "      <td>...</td>\n",
              "      <td>...</td>\n",
              "      <td>...</td>\n",
              "      <td>...</td>\n",
              "      <td>...</td>\n",
              "      <td>...</td>\n",
              "      <td>...</td>\n",
              "      <td>...</td>\n",
              "      <td>...</td>\n",
              "      <td>...</td>\n",
              "      <td>...</td>\n",
              "      <td>...</td>\n",
              "      <td>...</td>\n",
              "      <td>...</td>\n",
              "      <td>...</td>\n",
              "      <td>...</td>\n",
              "      <td>...</td>\n",
              "      <td>...</td>\n",
              "      <td>...</td>\n",
              "      <td>...</td>\n",
              "      <td>...</td>\n",
              "      <td>...</td>\n",
              "      <td>...</td>\n",
              "      <td>...</td>\n",
              "      <td>...</td>\n",
              "      <td>...</td>\n",
              "      <td>...</td>\n",
              "      <td>...</td>\n",
              "      <td>...</td>\n",
              "      <td>...</td>\n",
              "      <td>...</td>\n",
              "      <td>...</td>\n",
              "      <td>...</td>\n",
              "      <td>...</td>\n",
              "      <td>...</td>\n",
              "      <td>...</td>\n",
              "      <td>...</td>\n",
              "      <td>...</td>\n",
              "      <td>...</td>\n",
              "      <td>...</td>\n",
              "    </tr>\n",
              "    <tr>\n",
              "      <th>1323007</th>\n",
              "      <td>2020-09-03</td>\n",
              "      <td>079171</td>\n",
              "      <td>2020-07-14</td>\n",
              "      <td>2020-07-14</td>\n",
              "      <td>2020-07-18</td>\n",
              "      <td>0</td>\n",
              "      <td>MÃ©xico</td>\n",
              "      <td>99</td>\n",
              "      <td>CHIAPAS</td>\n",
              "      <td>ESCUINTLA</td>\n",
              "      <td>CHIAPAS</td>\n",
              "      <td>CHIAPAS</td>\n",
              "      <td>SI</td>\n",
              "      <td>SI</td>\n",
              "      <td>NO</td>\n",
              "      <td>NO</td>\n",
              "      <td>NO</td>\n",
              "      <td>NO</td>\n",
              "      <td>NO</td>\n",
              "      <td>NO</td>\n",
              "      <td>NO</td>\n",
              "      <td>NO</td>\n",
              "      <td>NO</td>\n",
              "      <td>NO</td>\n",
              "      <td>NO</td>\n",
              "      <td>NO</td>\n",
              "      <td>SI</td>\n",
              "      <td>NO ESPECIFICADO</td>\n",
              "      <td>NO</td>\n",
              "      <td>USMER</td>\n",
              "      <td>SSA</td>\n",
              "      <td>MUJER</td>\n",
              "      <td>HOSPITALIZADO</td>\n",
              "      <td>MEXICANA</td>\n",
              "      <td>No positivo SARS-CoV-2</td>\n",
              "      <td>True</td>\n",
              "      <td>7.0</td>\n",
              "      <td>2020.0</td>\n",
              "      <td>7</td>\n",
              "      <td>2020</td>\n",
              "    </tr>\n",
              "    <tr>\n",
              "      <th>1325181</th>\n",
              "      <td>2020-09-03</td>\n",
              "      <td>0860f4</td>\n",
              "      <td>2020-06-30</td>\n",
              "      <td>2020-06-30</td>\n",
              "      <td>2020-07-13</td>\n",
              "      <td>0</td>\n",
              "      <td>MÃ©xico</td>\n",
              "      <td>99</td>\n",
              "      <td>PUEBLA</td>\n",
              "      <td>TEHUACÁN</td>\n",
              "      <td>PUEBLA</td>\n",
              "      <td>PUEBLA</td>\n",
              "      <td>NO</td>\n",
              "      <td>NO</td>\n",
              "      <td>NO</td>\n",
              "      <td>NO</td>\n",
              "      <td>NO</td>\n",
              "      <td>NO</td>\n",
              "      <td>NO</td>\n",
              "      <td>NO</td>\n",
              "      <td>NO</td>\n",
              "      <td>NO</td>\n",
              "      <td>NO</td>\n",
              "      <td>NO</td>\n",
              "      <td>NO</td>\n",
              "      <td>NO</td>\n",
              "      <td>NO ESPECIFICADO</td>\n",
              "      <td>NO ESPECIFICADO</td>\n",
              "      <td>NO</td>\n",
              "      <td>FUERA DE USMER</td>\n",
              "      <td>IMSS</td>\n",
              "      <td>MUJER</td>\n",
              "      <td>HOSPITALIZADO</td>\n",
              "      <td>MEXICANA</td>\n",
              "      <td>Resultado pendiente</td>\n",
              "      <td>True</td>\n",
              "      <td>7.0</td>\n",
              "      <td>2020.0</td>\n",
              "      <td>6</td>\n",
              "      <td>2020</td>\n",
              "    </tr>\n",
              "    <tr>\n",
              "      <th>1335704</th>\n",
              "      <td>2020-09-03</td>\n",
              "      <td>1e7d7f</td>\n",
              "      <td>2020-08-18</td>\n",
              "      <td>2020-08-15</td>\n",
              "      <td>2020-09-01</td>\n",
              "      <td>0</td>\n",
              "      <td>MÃ©xico</td>\n",
              "      <td>99</td>\n",
              "      <td>JALISCO</td>\n",
              "      <td>TONALÁ</td>\n",
              "      <td>JALISCO</td>\n",
              "      <td>JALISCO</td>\n",
              "      <td>NO</td>\n",
              "      <td>SI</td>\n",
              "      <td>NO APLICA</td>\n",
              "      <td>NO ESPECIFICADO</td>\n",
              "      <td>NO</td>\n",
              "      <td>NO</td>\n",
              "      <td>NO</td>\n",
              "      <td>NO</td>\n",
              "      <td>NO</td>\n",
              "      <td>SE IGNORA</td>\n",
              "      <td>NO</td>\n",
              "      <td>NO</td>\n",
              "      <td>NO</td>\n",
              "      <td>NO</td>\n",
              "      <td>NO</td>\n",
              "      <td>NO ESPECIFICADO</td>\n",
              "      <td>NO</td>\n",
              "      <td>USMER</td>\n",
              "      <td>SSA</td>\n",
              "      <td>HOMBRE</td>\n",
              "      <td>HOSPITALIZADO</td>\n",
              "      <td>MEXICANA</td>\n",
              "      <td>Resultado pendiente</td>\n",
              "      <td>True</td>\n",
              "      <td>9.0</td>\n",
              "      <td>2020.0</td>\n",
              "      <td>8</td>\n",
              "      <td>2020</td>\n",
              "    </tr>\n",
              "    <tr>\n",
              "      <th>1356918</th>\n",
              "      <td>2020-09-03</td>\n",
              "      <td>00f39c</td>\n",
              "      <td>2020-07-06</td>\n",
              "      <td>2020-07-03</td>\n",
              "      <td>2020-07-08</td>\n",
              "      <td>0</td>\n",
              "      <td>MÃ©xico</td>\n",
              "      <td>99</td>\n",
              "      <td>JALISCO</td>\n",
              "      <td>ZAPOTILTIC</td>\n",
              "      <td>JALISCO</td>\n",
              "      <td>JALISCO</td>\n",
              "      <td>NO</td>\n",
              "      <td>SI</td>\n",
              "      <td>NO APLICA</td>\n",
              "      <td>NO</td>\n",
              "      <td>NO</td>\n",
              "      <td>NO</td>\n",
              "      <td>NO</td>\n",
              "      <td>NO</td>\n",
              "      <td>NO</td>\n",
              "      <td>NO</td>\n",
              "      <td>NO</td>\n",
              "      <td>NO</td>\n",
              "      <td>NO</td>\n",
              "      <td>NO</td>\n",
              "      <td>NO</td>\n",
              "      <td>NO ESPECIFICADO</td>\n",
              "      <td>SI</td>\n",
              "      <td>USMER</td>\n",
              "      <td>SSA</td>\n",
              "      <td>HOMBRE</td>\n",
              "      <td>HOSPITALIZADO</td>\n",
              "      <td>MEXICANA</td>\n",
              "      <td>Resultado pendiente</td>\n",
              "      <td>True</td>\n",
              "      <td>7.0</td>\n",
              "      <td>2020.0</td>\n",
              "      <td>7</td>\n",
              "      <td>2020</td>\n",
              "    </tr>\n",
              "    <tr>\n",
              "      <th>1374703</th>\n",
              "      <td>2020-09-03</td>\n",
              "      <td>07cf0b</td>\n",
              "      <td>2020-08-26</td>\n",
              "      <td>2020-08-25</td>\n",
              "      <td>2020-08-27</td>\n",
              "      <td>0</td>\n",
              "      <td>MÃ©xico</td>\n",
              "      <td>99</td>\n",
              "      <td>CHIHUAHUA</td>\n",
              "      <td>JUÁREZ</td>\n",
              "      <td>CHIHUAHUA</td>\n",
              "      <td>COAHUILA DE ZARAGOZA</td>\n",
              "      <td>NO</td>\n",
              "      <td>SI</td>\n",
              "      <td>NO</td>\n",
              "      <td>NO</td>\n",
              "      <td>NO</td>\n",
              "      <td>NO</td>\n",
              "      <td>NO</td>\n",
              "      <td>NO</td>\n",
              "      <td>NO</td>\n",
              "      <td>SE IGNORA</td>\n",
              "      <td>NO</td>\n",
              "      <td>NO</td>\n",
              "      <td>NO</td>\n",
              "      <td>NO</td>\n",
              "      <td>NO ESPECIFICADO</td>\n",
              "      <td>NO ESPECIFICADO</td>\n",
              "      <td>NO</td>\n",
              "      <td>USMER</td>\n",
              "      <td>SSA</td>\n",
              "      <td>MUJER</td>\n",
              "      <td>HOSPITALIZADO</td>\n",
              "      <td>MEXICANA</td>\n",
              "      <td>Resultado pendiente</td>\n",
              "      <td>True</td>\n",
              "      <td>8.0</td>\n",
              "      <td>2020.0</td>\n",
              "      <td>8</td>\n",
              "      <td>2020</td>\n",
              "    </tr>\n",
              "  </tbody>\n",
              "</table>\n",
              "<p>236 rows × 40 columns</p>\n",
              "</div>"
            ],
            "text/plain": [
              "        fecha_actualizacion id_registro  ... mes_ingreso año_ingreso\n",
              "8162             2020-09-03      15f637  ...           6        2020\n",
              "16059            2020-09-03      083c34  ...           5        2020\n",
              "23799            2020-09-03      02f8e2  ...           5        2020\n",
              "46287            2020-09-03      1cc0ea  ...           4        2020\n",
              "47645            2020-09-03      014b5d  ...           5        2020\n",
              "...                     ...         ...  ...         ...         ...\n",
              "1323007          2020-09-03      079171  ...           7        2020\n",
              "1325181          2020-09-03      0860f4  ...           6        2020\n",
              "1335704          2020-09-03      1e7d7f  ...           8        2020\n",
              "1356918          2020-09-03      00f39c  ...           7        2020\n",
              "1374703          2020-09-03      07cf0b  ...           8        2020\n",
              "\n",
              "[236 rows x 40 columns]"
            ]
          },
          "metadata": {
            "tags": []
          },
          "execution_count": 61
        }
      ]
    },
    {
      "cell_type": "code",
      "metadata": {
        "id": "dQJwSqHMPCrK",
        "colab_type": "code",
        "colab": {
          "base_uri": "https://localhost:8080/",
          "height": 138
        },
        "outputId": "55a79386-da89-4fd6-f841-698da2aa8dd0"
      },
      "source": [
        "# ¿Cuál es la edad de los pacientes que fallecen?\n",
        "data.groupby('defuncion').edad.describe()"
      ],
      "execution_count": null,
      "outputs": [
        {
          "output_type": "execute_result",
          "data": {
            "text/html": [
              "<div>\n",
              "<style scoped>\n",
              "    .dataframe tbody tr th:only-of-type {\n",
              "        vertical-align: middle;\n",
              "    }\n",
              "\n",
              "    .dataframe tbody tr th {\n",
              "        vertical-align: top;\n",
              "    }\n",
              "\n",
              "    .dataframe thead th {\n",
              "        text-align: right;\n",
              "    }\n",
              "</style>\n",
              "<table border=\"1\" class=\"dataframe\">\n",
              "  <thead>\n",
              "    <tr style=\"text-align: right;\">\n",
              "      <th></th>\n",
              "      <th>count</th>\n",
              "      <th>mean</th>\n",
              "      <th>std</th>\n",
              "      <th>min</th>\n",
              "      <th>25%</th>\n",
              "      <th>50%</th>\n",
              "      <th>75%</th>\n",
              "      <th>max</th>\n",
              "    </tr>\n",
              "    <tr>\n",
              "      <th>defuncion</th>\n",
              "      <th></th>\n",
              "      <th></th>\n",
              "      <th></th>\n",
              "      <th></th>\n",
              "      <th></th>\n",
              "      <th></th>\n",
              "      <th></th>\n",
              "      <th></th>\n",
              "    </tr>\n",
              "  </thead>\n",
              "  <tbody>\n",
              "    <tr>\n",
              "      <th>False</th>\n",
              "      <td>1308356.0</td>\n",
              "      <td>41.001587</td>\n",
              "      <td>16.077933</td>\n",
              "      <td>0.0</td>\n",
              "      <td>30.0</td>\n",
              "      <td>40.0</td>\n",
              "      <td>51.0</td>\n",
              "      <td>120.0</td>\n",
              "    </tr>\n",
              "    <tr>\n",
              "      <th>True</th>\n",
              "      <td>84677.0</td>\n",
              "      <td>61.816172</td>\n",
              "      <td>15.204152</td>\n",
              "      <td>0.0</td>\n",
              "      <td>53.0</td>\n",
              "      <td>63.0</td>\n",
              "      <td>72.0</td>\n",
              "      <td>109.0</td>\n",
              "    </tr>\n",
              "  </tbody>\n",
              "</table>\n",
              "</div>"
            ],
            "text/plain": [
              "               count       mean        std  min   25%   50%   75%    max\n",
              "defuncion                                                               \n",
              "False      1308356.0  41.001587  16.077933  0.0  30.0  40.0  51.0  120.0\n",
              "True         84677.0  61.816172  15.204152  0.0  53.0  63.0  72.0  109.0"
            ]
          },
          "metadata": {
            "tags": []
          },
          "execution_count": 62
        }
      ]
    },
    {
      "cell_type": "code",
      "metadata": {
        "id": "lSHPT5Q6ORiB",
        "colab_type": "code",
        "colab": {
          "base_uri": "https://localhost:8080/",
          "height": 190
        },
        "outputId": "db77a3f5-1eb8-4150-a5ff-a4e25446e705"
      },
      "source": [
        "# ¿Cuántas defunciones tenemos por mes?\n",
        "data[data.defuncion].mes_def.value_counts().sort_index()"
      ],
      "execution_count": null,
      "outputs": [
        {
          "output_type": "execute_result",
          "data": {
            "text/plain": [
              "1.0        6\n",
              "2.0       12\n",
              "3.0      232\n",
              "4.0     5277\n",
              "5.0    16018\n",
              "6.0    21318\n",
              "7.0    23471\n",
              "8.0    17859\n",
              "9.0      484\n",
              "Name: mes_def, dtype: int64"
            ]
          },
          "metadata": {
            "tags": []
          },
          "execution_count": 63
        }
      ]
    },
    {
      "cell_type": "code",
      "metadata": {
        "id": "Qxd5k4CXOsSA",
        "colab_type": "code",
        "colab": {
          "base_uri": "https://localhost:8080/",
          "height": 155
        },
        "outputId": "3f925e38-3936-4994-fbb7-6f251f5174a2"
      },
      "source": [
        "# ¿Cuál es la proporción de diábeticos para las defunciones?\n",
        "data.groupby('diabetes').defuncion.value_counts(normalize=True)"
      ],
      "execution_count": null,
      "outputs": [
        {
          "output_type": "execute_result",
          "data": {
            "text/plain": [
              "diabetes   defuncion\n",
              "NO         False        0.957313\n",
              "           True         0.042687\n",
              "SE IGNORA  False        0.873791\n",
              "           True         0.126209\n",
              "SI         False        0.812020\n",
              "           True         0.187980\n",
              "Name: defuncion, dtype: float64"
            ]
          },
          "metadata": {
            "tags": []
          },
          "execution_count": 64
        }
      ]
    },
    {
      "cell_type": "code",
      "metadata": {
        "id": "mHYDq5qXOxES",
        "colab_type": "code",
        "colab": {
          "base_uri": "https://localhost:8080/",
          "height": 155
        },
        "outputId": "1530071d-cc26-4a50-8e1c-0e7a397695cb"
      },
      "source": [
        "# ¿Cuál es la proporción de asmáticos para las defunciones?\n",
        "data.groupby('asma').defuncion.value_counts(normalize=True)"
      ],
      "execution_count": null,
      "outputs": [
        {
          "output_type": "execute_result",
          "data": {
            "text/plain": [
              "asma       defuncion\n",
              "NO         False        0.938871\n",
              "           True         0.061129\n",
              "SE IGNORA  False        0.865200\n",
              "           True         0.134800\n",
              "SI         False        0.957209\n",
              "           True         0.042791\n",
              "Name: defuncion, dtype: float64"
            ]
          },
          "metadata": {
            "tags": []
          },
          "execution_count": 65
        }
      ]
    },
    {
      "cell_type": "code",
      "metadata": {
        "id": "ObiPdrg_x4KH",
        "colab_type": "code",
        "colab": {}
      },
      "source": [
        ""
      ],
      "execution_count": null,
      "outputs": []
    }
  ]
}