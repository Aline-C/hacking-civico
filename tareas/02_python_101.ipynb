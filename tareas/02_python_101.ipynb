{
  "nbformat": 4,
  "nbformat_minor": 0,
  "metadata": {
    "colab": {
      "name": "02-python-101.ipynb",
      "provenance": [],
      "authorship_tag": "ABX9TyNrgAoos42vh9DVuBrJAfAC",
      "include_colab_link": true
    },
    "kernelspec": {
      "name": "python3",
      "display_name": "Python 3"
    }
  },
  "cells": [
    {
      "cell_type": "markdown",
      "metadata": {
        "id": "view-in-github",
        "colab_type": "text"
      },
      "source": [
        "<a href=\"https://colab.research.google.com/github/Aline-C/hacking-civico/blob/master/02_python_101.ipynb\" target=\"_parent\"><img src=\"https://colab.research.google.com/assets/colab-badge.svg\" alt=\"Open In Colab\"/></a>"
      ]
    },
    {
      "cell_type": "markdown",
      "metadata": {
        "id": "kmiervuvx4AS",
        "colab_type": "text"
      },
      "source": [
        "# Tarea #2 📚\n",
        "##**Parte 1: Densidad Poblacional**\n",
        "---\n",
        "\n",
        "### Cantidad de habitantes: \n",
        "\n",
        "- México:\n",
        "119,938,473 personas\n",
        "\n",
        "- Guanajuato:\n",
        "5,864,777 personas\n",
        "\n",
        "- León:\n",
        "1,436,480 personas\n",
        "\n",
        "### Superficie:\n",
        "\n",
        "- México: 1 967 183 Km²\n",
        "\n",
        "- Guanajuato: 30 589 Km²\n",
        "\n",
        "- León: 1 220 Km²\n",
        "\n",
        "> Información de habitantes obtenida del censo 2015 del [INEGI](https://www.inegi.org.mx/app/areasgeograficas/?ag=00)\n",
        "\n",
        "> Datos de Extensión territorial obtenidos del [INAFED](http://www.inafed.gob.mx/work/enciclopedia/EMM11guanajuato/mediofisico.html)\n"
      ]
    },
    {
      "cell_type": "code",
      "metadata": {
        "id": "9mY3iaUIzGfH",
        "colab_type": "code",
        "colab": {}
      },
      "source": [
        "datos = [\n",
        "            {'Entidad':'México',\n",
        "             'Población':119938473,\n",
        "             'Área':1967183},\n",
        "            {'Entidad':'Guanajuato',\n",
        "             'Población': 5864777,\n",
        "             'Área':30589},\n",
        "            {'Entidad':'León',\n",
        "             'Población': 1436480,\n",
        "             'Área': 1220}\n",
        "]"
      ],
      "execution_count": 1,
      "outputs": []
    },
    {
      "cell_type": "code",
      "metadata": {
        "id": "XM9kQ4Ud0JQC",
        "colab_type": "code",
        "colab": {}
      },
      "source": [
        "# Densidad poblacional = población / área ciudad\n",
        "\n",
        "def densidad_poblacional (poblacion, area_ciudad):\n",
        "  habitantes = poblacion ['Población']\n",
        "  superficie = poblacion ['Área']\n",
        "\n",
        "  densidad_p = habitantes // superficie\n",
        "  return densidad_p"
      ],
      "execution_count": 3,
      "outputs": []
    },
    {
      "cell_type": "code",
      "metadata": {
        "id": "H5sNUUVg0sMc",
        "colab_type": "code",
        "colab": {
          "base_uri": "https://localhost:8080/",
          "height": 68
        },
        "outputId": "13043db0-172a-47a9-a46e-74a13771a79e"
      },
      "source": [
        "d = len(datos)\n",
        "for index in range (d):\n",
        "  dens_poblacional = densidad_poblacional(datos[index],datos[index])\n",
        "  print ('Densidad poblacional de',datos[index]['Entidad'],':',dens_poblacional,'habitantes/km²')"
      ],
      "execution_count": 4,
      "outputs": [
        {
          "output_type": "stream",
          "text": [
            "Densidad poblacional de México : 60 habitantes/km²\n",
            "Densidad poblacional de Guanajuato : 191 habitantes/km²\n",
            "Densidad poblacional de León : 1177 habitantes/km²\n"
          ],
          "name": "stdout"
        }
      ]
    },
    {
      "cell_type": "markdown",
      "metadata": {
        "id": "RzrGLwhe3j7-",
        "colab_type": "text"
      },
      "source": [
        "### ¿Qué pasa al comparar varios estados o ciudades?\n",
        "\n",
        "Nos podemos dar cuenta del contraste entre territorios. De como la cantidad de habitantes en las ciudades grandes es radicalmente diferente a la cantidad en ciudades pequeñas. Lo mismo entre estados.\n",
        "\n",
        "#**Parte 2: Gasto per cápita**\n",
        "\n",
        "\n",
        "---\n",
        "\n",
        "\n",
        "### Presupuesto para *Sector Turismo*:\n",
        "- Federal 2020: $5 034 491 561\n",
        "\n",
        "- Federal 2019: $8 785 888 223\n",
        "\n",
        "> Presupuesto de Egresos de la Federación para el Ejercicio Fiscal 2019 del [DOF](http://www.imss.gob.mx/sites/all/statics/pdf/leyes/4505.pdf)\n",
        "\n",
        "> Presupuesto de Egresos de la Federación para el Ejercicio Fiscal 2020 [DOF](http://www.diputados.gob.mx/LeyesBiblio/pdf/PEF_2020_111219.pdf)"
      ]
    },
    {
      "cell_type": "code",
      "metadata": {
        "id": "mCwZAsHp8jPO",
        "colab_type": "code",
        "colab": {}
      },
      "source": [
        "# Gasto per cápita = presupuesto / población\n",
        "\n",
        "def gasto_p_capita (presupuesto,poblacion):\n",
        "  total = presupuesto // poblacion\n",
        "  return total"
      ],
      "execution_count": 6,
      "outputs": []
    },
    {
      "cell_type": "code",
      "metadata": {
        "id": "YhzMox_w85Th",
        "colab_type": "code",
        "colab": {
          "base_uri": "https://localhost:8080/",
          "height": 51
        },
        "outputId": "687f8323-a1e1-45c2-ebe8-8113dcce19aa"
      },
      "source": [
        "presupuesto_2020 = 5034491561\n",
        "presupuesto_2019 = 8785888223\n",
        "poblacion_mx = 119938473\n",
        "\n",
        "gasto_p_capita_2020 = gasto_p_capita(presupuesto_2020,poblacion_mx)\n",
        "print('Gasto per cápita para Sector Turismo 2020:', gasto_p_capita_2020,'MXN')\n",
        "\n",
        "gasto_p_capita_2019 = gasto_p_capita (presupuesto_2019,poblacion_mx)\n",
        "print ('Gasto per cápita para Sector Turismo 2019:', gasto_p_capita_2019,'MXN')"
      ],
      "execution_count": 9,
      "outputs": [
        {
          "output_type": "stream",
          "text": [
            "Gasto per cápita para Sector Turismo 2020: 41 MXN\n",
            "Gasto per cápita para Sector Turismo 2019: 73 MXN\n"
          ],
          "name": "stdout"
        }
      ]
    },
    {
      "cell_type": "code",
      "metadata": {
        "id": "fqgiUtiD9Yco",
        "colab_type": "code",
        "colab": {
          "base_uri": "https://localhost:8080/",
          "height": 34
        },
        "outputId": "1cc5aca5-8f53-4836-ede5-e7d7779f2183"
      },
      "source": [
        "#porcentaje de cambio = gasto per cápita 2020 * 100 / gasto per capita 2019\n",
        "porcentaje_de_cambio = gasto_p_capita_2020 * 100 // gasto_p_capita_2019\n",
        "if porcentaje_de_cambio == 100:\n",
        "  print('El presupuesto público fue igual al año anterior')\n",
        "elif porcentaje_de_cambio > 100:\n",
        "  print('El presupuesto público aumentó', porcentaje_de_cambio,'%')\n",
        "else:\n",
        "  print('El presupuesto público disminuyó', 100 - porcentaje_de_cambio,'%' )"
      ],
      "execution_count": 10,
      "outputs": [
        {
          "output_type": "stream",
          "text": [
            "El presupuesto público disminuyó 44 %\n"
          ],
          "name": "stdout"
        }
      ]
    },
    {
      "cell_type": "markdown",
      "metadata": {
        "id": "DUIZsfZH-9yp",
        "colab_type": "text"
      },
      "source": [
        "###¿En qué porcentaje aumentó o disminuyó?\n",
        "Disminuyó un 44% con respecto al año 2019.\n",
        "\n",
        "###¿A qué crees que se deba?\n",
        "Me imagino que disminuyó en gran manera por el enfoque que el nuevo gobierno tiene: Austeridad.\n",
        "Muchos de los egresos de gobierno se vieron disminuidos al no ser considerados de primera prioridad, o ser considerados como gastos prescindibles en el nuevo plan de gobierno.\n",
        "\n",
        "De cierta manera, la disminución en este año al presupuesto de la Secretaría de Turismo puede verse como un acierto, puesto que la pandemia que vivimos actualmente ha impactado de gran manera a este sector.\n",
        "\n",
        "#**Parte 3**\n",
        "\n",
        "\n",
        "---\n",
        "\n",
        "\n",
        "### ¿Para qué crees que nos pueda ser útil esta información?\n",
        "\n",
        "Para tener herramientas de comparación y conscientización de como se administran los recursos del país y del enfoque que el gobierno esta tomando año con año. Esta información nos sirve como piedra inicial para empezar a cuestionarnos como las necesidades de las diferentes entidades van cambiando con el paso del tiempo y de qué estrategias se llevan a cabo para enfrentarlas.\n",
        "\n",
        "###¿Qué decisiones podría tomar el gobierno basado en ésta?\n",
        "Decisiones como el porcentaje de aumento o disminución de presupuestos para años posteriores dependiendo de la efectividad que tuvieron esos recursos a nivel federal, estatal y local. Teniendo los datos per cápita en los diferentes niveles de gobierno se puede comparar y evaluar la efectividad de las acciones de gobierno con los recursos que se tuvieron y tomar decisiones administrativas basándose en ello."
      ]
    }
  ]
}
